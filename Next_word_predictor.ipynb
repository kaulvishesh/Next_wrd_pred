{
  "cells": [
    {
      "cell_type": "code",
      "execution_count": null,
      "metadata": {
        "id": "5UQnA18dJxFK"
      },
      "outputs": [],
      "source": [
        "lore = \"\"\"The main characters of the series are the \"Family\", a group of kids led by Seiko dealing with the supernatural.\n",
        "The members of the Family who also attend high school at Kami High are also members of the History and Culture Research Club , which serves as a front for their activities.\n",
        "\n",
        "Momo Ayase\n",
        "Voiced by: Shion Wakayama\n",
        "A gyaru high school girl who believes in ghosts and the supernatural.\n",
        "After being abducted by Serpo aliens, she discovers she has psychokinetic powers, allowing her to visualize the \"auras\" of people and objects, and visualizes her power as giant hands to \"grab\" and control these auras.\n",
        "Because she has a crush on the actor Ken Takakura, she refuses to call Okarun by his real name because he does not look anything like him.\n",
        "Although initially not getting along and constantly arguing and fighting with each other, after defeating Turbo Granny, they become close friends and throughout the course of the story, she develops strong feelings for Okarun.\n",
        "\n",
        "Ken Takakura / Okarun\n",
        "Voiced by: Natsuki Hanae\n",
        "A shy and friendless high school boy who tries to connect with Momo over their shared interests in the supernatural.\n",
        "She calls him \"Okarun\" from \"occult\", since he shares a name with the actor Ken Takakura, her celebrity crush.\n",
        "After being possessed by the Turbo Granny, Okarun gains the ability to enter a powerful demonic state, granting him immense speed but also a suave yet lethargic alternate personality. He values and cares a lot about his friendship with Momo and throughout the course of the story, he realizes he is in love with Momo, eventually confessing to her.\n",
        "\n",
        "Seiko Ayase\n",
        "Voiced by: Nana Mizuki\n",
        "A spirit medium and Momo's grandmother, whom she lives with, despite appearing to be in her 20s.\n",
        "She helps Momo and Okarun deal with dangerous spirits and yōkai.\n",
        "Though she has no innate powers, she has an extensive knowledge of supernatural entities and curses, and uses various artifacts and the borrowed power of the god residing in their city to seal and exorcise yōkai, though this power is only limited to the city itself.\n",
        "She has a brash personality, much to the chagrin of those around her, but deeply cares for her loved ones including Momo.\n",
        "\n",
        "Turbo Granny\n",
        "Voiced by: Mayumi Tanaka\n",
        "A yōkai who takes the form of a cruel, foul-mouthed elderly woman, Turbo Granny used to comfort the spirits of girls who died horrible deaths, but started cursing and stealing the genitals of anyone who entered her territory.\n",
        "After Momo and Okarun defeat her, Seiko seals her spirit inside a maneki-neko doll, and she agrees to aid Okarun and Momo in finding Okarun's testicles, in exchange for receiving her powers back.\n",
        "Aira Shiratori\n",
        "Voiced by: Ayane Sakura\n",
        "The school idol of Kami High.\n",
        "Although she puts on the appearance of a ditzy and amiable person, she is actually incredibly vain and boasts a Messiah complex, a direct result of her inability to reconcile with the death of her mother at a young age.\n",
        "After obtaining one of Okarun's kintama, Aira reawakened her suppressed ability to see the supernatural, which coupled with her egomania, led her to believe that she was divinely chosen to exorcise yōkai and thus targets Momo, delusionally believing her and Okarun to be malevolent demons.\n",
        "The resulting confrontation culminated in her absorbing Acrobatic Silky's powers, giving her a similar transformation to Okarun as well as immense agility and prehensile hair.\n",
        "Aira subsequently allies with Momo and Okarun despite still thinking they are demons, and becomes openly affectionate towards Okarun for his selfless nature.\n",
        "\"\"\""
      ]
    },
    {
      "cell_type": "code",
      "execution_count": null,
      "metadata": {
        "id": "dJFpGyzJNA7P"
      },
      "outputs": [],
      "source": [
        "import tensorflow as tf\n",
        "from tensorflow.keras.preprocessing.text import Tokenizer"
      ]
    },
    {
      "cell_type": "code",
      "execution_count": null,
      "metadata": {
        "id": "UAYzWeo6OXqY"
      },
      "outputs": [],
      "source": [
        "tokenizer = Tokenizer()"
      ]
    },
    {
      "cell_type": "code",
      "execution_count": null,
      "metadata": {
        "id": "afzuUPoJOZVm"
      },
      "outputs": [],
      "source": [
        "tokenizer.fit_on_texts([lore])"
      ]
    },
    {
      "cell_type": "code",
      "execution_count": null,
      "metadata": {
        "colab": {
          "base_uri": "https://localhost:8080/"
        },
        "id": "ej6HIg5POgvn",
        "outputId": "a039a308-6256-4bff-cbd0-f7f2dbc94802"
      },
      "outputs": [
        {
          "output_type": "execute_result",
          "data": {
            "text/plain": [
              "302"
            ]
          },
          "metadata": {},
          "execution_count": 5
        }
      ],
      "source": [
        "len(tokenizer.word_index)"
      ]
    },
    {
      "cell_type": "code",
      "execution_count": null,
      "metadata": {
        "id": "pY4Vpc_mOjbv"
      },
      "outputs": [],
      "source": [
        "input_seq = []\n",
        "for sentence in lore.split('\\n'):\n",
        "  tokenized_sentence = tokenizer.texts_to_sequences([sentence])[0]\n",
        "\n",
        "  for i in range(len(tokenized_sentence)):\n",
        "    n_gram = tokenized_sentence[:i+1]\n",
        "    input_seq.append(n_gram)"
      ]
    },
    {
      "cell_type": "code",
      "execution_count": null,
      "metadata": {
        "id": "IvkZO-tQPHc4"
      },
      "outputs": [],
      "source": [
        "max_len = max([len(x) for x in input_seq])"
      ]
    },
    {
      "cell_type": "code",
      "execution_count": null,
      "metadata": {
        "id": "9mKPOSVwQaFo"
      },
      "outputs": [],
      "source": [
        "from tensorflow.keras.preprocessing.sequence import pad_sequences"
      ]
    },
    {
      "cell_type": "code",
      "execution_count": null,
      "metadata": {
        "id": "IMwjOFKPRabR"
      },
      "outputs": [],
      "source": [
        "padded_in_seq=pad_sequences(input_seq, maxlen = max_len, padding = 'pre')"
      ]
    },
    {
      "cell_type": "code",
      "execution_count": null,
      "metadata": {
        "id": "WCn-7ibERoxC"
      },
      "outputs": [],
      "source": [
        "X = padded_in_seq[:,:-1]\n",
        "y = padded_in_seq[:,-1]"
      ]
    },
    {
      "cell_type": "code",
      "execution_count": null,
      "metadata": {
        "colab": {
          "base_uri": "https://localhost:8080/",
          "height": 70
        },
        "id": "1msN-mlkSSzK",
        "outputId": "912c0795-88a0-4388-a040-f99ee525bc6d"
      },
      "outputs": [
        {
          "output_type": "execute_result",
          "data": {
            "text/plain": [
              "'\\nThis may seem like a regression problem at first, but all the outputs are discrete, and any float value will not have any meaning (for eg for X=[12 3] y = 1 but the y_hat = 1.2 then the prediction maps to no word in our vocabulary denoted by numbers. Hence this is a classification problem that too multi-class, we will OHE the y values and then predict the probabilities of all outcomes, softmax it to find the y_pred)'"
            ],
            "application/vnd.google.colaboratory.intrinsic+json": {
              "type": "string"
            }
          },
          "metadata": {},
          "execution_count": 11
        }
      ],
      "source": [
        "\"\"\"\n",
        "This may seem like a regression problem at first, but all the outputs are discrete, and any float value will not have any meaning (for eg for X=[12 3] y = 1 but the y_hat = 1.2 then the prediction maps to no word in our vocabulary denoted by numbers. Hence this is a classification problem that too multi-class, we will OHE the y values and then predict the probabilities of all outcomes, softmax it to find the y_pred)\"\"\""
      ]
    },
    {
      "cell_type": "code",
      "execution_count": null,
      "metadata": {
        "colab": {
          "base_uri": "https://localhost:8080/"
        },
        "id": "dn2MUG6iTz19",
        "outputId": "84dd3124-c84c-4c77-e08f-2835ffa0667b"
      },
      "outputs": [
        {
          "output_type": "execute_result",
          "data": {
            "text/plain": [
              "(596, 58)"
            ]
          },
          "metadata": {},
          "execution_count": 12
        }
      ],
      "source": [
        "X.shape"
      ]
    },
    {
      "cell_type": "code",
      "execution_count": null,
      "metadata": {
        "id": "gtnQRkqUViua"
      },
      "outputs": [],
      "source": [
        "from tensorflow.keras.utils import to_categorical\n",
        "y = to_categorical(y,num_classes=len(tokenizer.word_index)+1)"
      ]
    },
    {
      "cell_type": "code",
      "execution_count": null,
      "metadata": {
        "colab": {
          "base_uri": "https://localhost:8080/"
        },
        "id": "NHthhkKVcSuD",
        "outputId": "b2d3e216-d06d-4936-dcc7-b604f42eb185"
      },
      "outputs": [
        {
          "output_type": "execute_result",
          "data": {
            "text/plain": [
              "303"
            ]
          },
          "metadata": {},
          "execution_count": 14
        }
      ],
      "source": [
        "len(tokenizer.word_index)+1"
      ]
    },
    {
      "cell_type": "code",
      "execution_count": null,
      "metadata": {
        "colab": {
          "base_uri": "https://localhost:8080/"
        },
        "id": "sLkm0Wp0V4Cm",
        "outputId": "730be09b-5a80-4185-9428-5a15c8057572"
      },
      "outputs": [
        {
          "output_type": "execute_result",
          "data": {
            "text/plain": [
              "(596, 303)"
            ]
          },
          "metadata": {},
          "execution_count": 15
        }
      ],
      "source": [
        "y.shape"
      ]
    },
    {
      "cell_type": "code",
      "execution_count": null,
      "metadata": {
        "id": "oFetX4eJjNLD"
      },
      "outputs": [],
      "source": [
        "from sklearn.model_selection import train_test_split\n",
        "from tensorflow.keras.callbacks import ReduceLROnPlateau , EarlyStopping\n",
        "X_train, X_test, y_train, y_test = train_test_split(X, y, test_size=0.2, random_state=42)\n",
        "# early_stopping = EarlyStopping(monitor='val_loss', patience=5, restore_best_weights=True)\n",
        "# reduce_lr = ReduceLROnPlateau(monitor='val_loss', factor=0.5, patience=2, min_lr=1e-6)"
      ]
    },
    {
      "cell_type": "code",
      "execution_count": null,
      "metadata": {
        "id": "2LB5MdIOWKsu"
      },
      "outputs": [],
      "source": [
        "#1 embedding layer\n",
        "#1 Dense Layer\n",
        "#1 output layer\n",
        "\n",
        "from tensorflow.keras.models import Sequential\n",
        "from tensorflow.keras.layers import Embedding, Dense, LSTM, Dropout, BatchNormalization, SimpleRNN, GRU"
      ]
    },
    {
      "cell_type": "code",
      "source": [
        "import tensorflow as tf\n",
        "import keras.backend as K\n",
        "\n",
        "def perplexity(y_true, y_pred):\n",
        "    cross_entropy = tf.keras.losses.categorical_crossentropy(y_true, y_pred)\n",
        "    return tf.exp(tf.reduce_mean(cross_entropy))\n"
      ],
      "metadata": {
        "id": "JS8Svx-ba_UP"
      },
      "execution_count": null,
      "outputs": []
    },
    {
      "cell_type": "code",
      "execution_count": null,
      "metadata": {
        "id": "_ZAmk_UEZZUZ"
      },
      "outputs": [],
      "source": [
        "best_model_1 = Sequential()\n",
        "# Build model\n",
        "best_model_1.add(Embedding(input_dim=len(tokenizer.word_index) + 1,\n",
        "                    output_dim=200))\n",
        "best_model_1.add(SimpleRNN(25, return_sequences=True))\n",
        "best_model_1.add(BatchNormalization())\n",
        "best_model_1.add(Dropout(0.3))\n",
        "best_model_1.add(SimpleRNN(25))\n",
        "best_model_1.add(BatchNormalization())\n",
        "best_model_1.add(Dense(len(tokenizer.word_index) + 1, activation='softmax'))\n",
        "\n",
        "# Compile\n",
        "best_model_1.compile(optimizer=tf.keras.optimizers.Adam(learning_rate=0.000492694559995156),\n",
        "                  loss='categorical_crossentropy',\n",
        "                  metrics=['accuracy',perplexity])"
      ]
    },
    {
      "cell_type": "code",
      "execution_count": null,
      "metadata": {
        "colab": {
          "base_uri": "https://localhost:8080/"
        },
        "id": "EVUGmjvlBaC_",
        "outputId": "5ab304ca-0d4c-4151-b969-aea337618897"
      },
      "outputs": [
        {
          "output_type": "stream",
          "name": "stdout",
          "text": [
            "Epoch 1/100\n",
            "\u001b[1m15/15\u001b[0m \u001b[32m━━━━━━━━━━━━━━━━━━━━\u001b[0m\u001b[37m\u001b[0m \u001b[1m7s\u001b[0m 81ms/step - accuracy: 0.0014 - loss: 5.7984 - perplexity: 330.4437 - val_accuracy: 0.0000e+00 - val_loss: 5.7098 - val_perplexity: 302.1606\n",
            "Epoch 2/100\n",
            "\u001b[1m15/15\u001b[0m \u001b[32m━━━━━━━━━━━━━━━━━━━━\u001b[0m\u001b[37m\u001b[0m \u001b[1m1s\u001b[0m 63ms/step - accuracy: 0.0106 - loss: 5.6238 - perplexity: 277.4241 - val_accuracy: 0.0000e+00 - val_loss: 5.7018 - val_perplexity: 299.6382\n",
            "Epoch 3/100\n",
            "\u001b[1m15/15\u001b[0m \u001b[32m━━━━━━━━━━━━━━━━━━━━\u001b[0m\u001b[37m\u001b[0m \u001b[1m2s\u001b[0m 84ms/step - accuracy: 0.0248 - loss: 5.5271 - perplexity: 251.6123 - val_accuracy: 0.0083 - val_loss: 5.6956 - val_perplexity: 297.7170\n",
            "Epoch 4/100\n",
            "\u001b[1m15/15\u001b[0m \u001b[32m━━━━━━━━━━━━━━━━━━━━\u001b[0m\u001b[37m\u001b[0m \u001b[1m1s\u001b[0m 94ms/step - accuracy: 0.0389 - loss: 5.4532 - perplexity: 233.8155 - val_accuracy: 0.0250 - val_loss: 5.6917 - val_perplexity: 296.5738\n",
            "Epoch 5/100\n",
            "\u001b[1m15/15\u001b[0m \u001b[32m━━━━━━━━━━━━━━━━━━━━\u001b[0m\u001b[37m\u001b[0m \u001b[1m2s\u001b[0m 49ms/step - accuracy: 0.0521 - loss: 5.3858 - perplexity: 218.6455 - val_accuracy: 0.0250 - val_loss: 5.6871 - val_perplexity: 295.1369\n",
            "Epoch 6/100\n",
            "\u001b[1m15/15\u001b[0m \u001b[32m━━━━━━━━━━━━━━━━━━━━\u001b[0m\u001b[37m\u001b[0m \u001b[1m2s\u001b[0m 82ms/step - accuracy: 0.0665 - loss: 5.3015 - perplexity: 201.7519 - val_accuracy: 0.0250 - val_loss: 5.6872 - val_perplexity: 295.3513\n",
            "Epoch 7/100\n",
            "\u001b[1m15/15\u001b[0m \u001b[32m━━━━━━━━━━━━━━━━━━━━\u001b[0m\u001b[37m\u001b[0m \u001b[1m1s\u001b[0m 60ms/step - accuracy: 0.0810 - loss: 5.2366 - perplexity: 188.3317 - val_accuracy: 0.0250 - val_loss: 5.6853 - val_perplexity: 294.9547\n",
            "Epoch 8/100\n",
            "\u001b[1m15/15\u001b[0m \u001b[32m━━━━━━━━━━━━━━━━━━━━\u001b[0m\u001b[37m\u001b[0m \u001b[1m1s\u001b[0m 91ms/step - accuracy: 0.1239 - loss: 5.1434 - perplexity: 171.5739 - val_accuracy: 0.0250 - val_loss: 5.6787 - val_perplexity: 292.9167\n",
            "Epoch 9/100\n",
            "\u001b[1m15/15\u001b[0m \u001b[32m━━━━━━━━━━━━━━━━━━━━\u001b[0m\u001b[37m\u001b[0m \u001b[1m3s\u001b[0m 107ms/step - accuracy: 0.1285 - loss: 5.1002 - perplexity: 164.3933 - val_accuracy: 0.0250 - val_loss: 5.6795 - val_perplexity: 293.1885\n",
            "Epoch 10/100\n",
            "\u001b[1m15/15\u001b[0m \u001b[32m━━━━━━━━━━━━━━━━━━━━\u001b[0m\u001b[37m\u001b[0m \u001b[1m2s\u001b[0m 105ms/step - accuracy: 0.1840 - loss: 5.0182 - perplexity: 151.5072 - val_accuracy: 0.0167 - val_loss: 5.6798 - val_perplexity: 293.4343\n",
            "Epoch 11/100\n",
            "\u001b[1m15/15\u001b[0m \u001b[32m━━━━━━━━━━━━━━━━━━━━\u001b[0m\u001b[37m\u001b[0m \u001b[1m1s\u001b[0m 61ms/step - accuracy: 0.2125 - loss: 4.9814 - perplexity: 146.0885 - val_accuracy: 0.0167 - val_loss: 5.6821 - val_perplexity: 294.1757\n",
            "Epoch 12/100\n",
            "\u001b[1m15/15\u001b[0m \u001b[32m━━━━━━━━━━━━━━━━━━━━\u001b[0m\u001b[37m\u001b[0m \u001b[1m1s\u001b[0m 63ms/step - accuracy: 0.2498 - loss: 4.8885 - perplexity: 133.0221 - val_accuracy: 0.0167 - val_loss: 5.6797 - val_perplexity: 293.5506\n",
            "Epoch 13/100\n",
            "\u001b[1m15/15\u001b[0m \u001b[32m━━━━━━━━━━━━━━━━━━━━\u001b[0m\u001b[37m\u001b[0m \u001b[1m1s\u001b[0m 37ms/step - accuracy: 0.2173 - loss: 4.8512 - perplexity: 128.3715 - val_accuracy: 0.0167 - val_loss: 5.6819 - val_perplexity: 294.0053\n",
            "Epoch 14/100\n",
            "\u001b[1m15/15\u001b[0m \u001b[32m━━━━━━━━━━━━━━━━━━━━\u001b[0m\u001b[37m\u001b[0m \u001b[1m1s\u001b[0m 41ms/step - accuracy: 0.3356 - loss: 4.7301 - perplexity: 113.4696 - val_accuracy: 0.0333 - val_loss: 5.6811 - val_perplexity: 293.9136\n",
            "Epoch 15/100\n",
            "\u001b[1m15/15\u001b[0m \u001b[32m━━━━━━━━━━━━━━━━━━━━\u001b[0m\u001b[37m\u001b[0m \u001b[1m1s\u001b[0m 36ms/step - accuracy: 0.3426 - loss: 4.6337 - perplexity: 103.0218 - val_accuracy: 0.0250 - val_loss: 5.6807 - val_perplexity: 293.7238\n",
            "Epoch 16/100\n",
            "\u001b[1m15/15\u001b[0m \u001b[32m━━━━━━━━━━━━━━━━━━━━\u001b[0m\u001b[37m\u001b[0m \u001b[1m1s\u001b[0m 34ms/step - accuracy: 0.3892 - loss: 4.5648 - perplexity: 96.8866 - val_accuracy: 0.0250 - val_loss: 5.6801 - val_perplexity: 293.4722\n",
            "Epoch 17/100\n",
            "\u001b[1m15/15\u001b[0m \u001b[32m━━━━━━━━━━━━━━━━━━━━\u001b[0m\u001b[37m\u001b[0m \u001b[1m1s\u001b[0m 40ms/step - accuracy: 0.3481 - loss: 4.5137 - perplexity: 91.7754 - val_accuracy: 0.0250 - val_loss: 5.6823 - val_perplexity: 294.5324\n",
            "Epoch 18/100\n",
            "\u001b[1m15/15\u001b[0m \u001b[32m━━━━━━━━━━━━━━━━━━━━\u001b[0m\u001b[37m\u001b[0m \u001b[1m1s\u001b[0m 39ms/step - accuracy: 0.3894 - loss: 4.4453 - perplexity: 86.0220 - val_accuracy: 0.0250 - val_loss: 5.6759 - val_perplexity: 292.7174\n",
            "Epoch 19/100\n",
            "\u001b[1m15/15\u001b[0m \u001b[32m━━━━━━━━━━━━━━━━━━━━\u001b[0m\u001b[37m\u001b[0m \u001b[1m1s\u001b[0m 42ms/step - accuracy: 0.3978 - loss: 4.3465 - perplexity: 78.2081 - val_accuracy: 0.0250 - val_loss: 5.6874 - val_perplexity: 295.7946\n",
            "Epoch 20/100\n",
            "\u001b[1m15/15\u001b[0m \u001b[32m━━━━━━━━━━━━━━━━━━━━\u001b[0m\u001b[37m\u001b[0m \u001b[1m1s\u001b[0m 59ms/step - accuracy: 0.4159 - loss: 4.2469 - perplexity: 71.0296 - val_accuracy: 0.0333 - val_loss: 5.6829 - val_perplexity: 294.7064\n",
            "Epoch 21/100\n",
            "\u001b[1m15/15\u001b[0m \u001b[32m━━━━━━━━━━━━━━━━━━━━\u001b[0m\u001b[37m\u001b[0m \u001b[1m1s\u001b[0m 37ms/step - accuracy: 0.4145 - loss: 4.1452 - perplexity: 63.3728 - val_accuracy: 0.0333 - val_loss: 5.6762 - val_perplexity: 292.7621\n",
            "Epoch 22/100\n",
            "\u001b[1m15/15\u001b[0m \u001b[32m━━━━━━━━━━━━━━━━━━━━\u001b[0m\u001b[37m\u001b[0m \u001b[1m1s\u001b[0m 36ms/step - accuracy: 0.4468 - loss: 4.0274 - perplexity: 57.2759 - val_accuracy: 0.0333 - val_loss: 5.6827 - val_perplexity: 294.7207\n",
            "Epoch 23/100\n",
            "\u001b[1m15/15\u001b[0m \u001b[32m━━━━━━━━━━━━━━━━━━━━\u001b[0m\u001b[37m\u001b[0m \u001b[1m1s\u001b[0m 48ms/step - accuracy: 0.4031 - loss: 4.0023 - perplexity: 55.3951 - val_accuracy: 0.0333 - val_loss: 5.6856 - val_perplexity: 295.9077\n",
            "Epoch 24/100\n",
            "\u001b[1m15/15\u001b[0m \u001b[32m━━━━━━━━━━━━━━━━━━━━\u001b[0m\u001b[37m\u001b[0m \u001b[1m1s\u001b[0m 37ms/step - accuracy: 0.4586 - loss: 3.8886 - perplexity: 49.1280 - val_accuracy: 0.0250 - val_loss: 5.6871 - val_perplexity: 297.6479\n",
            "Epoch 25/100\n",
            "\u001b[1m15/15\u001b[0m \u001b[32m━━━━━━━━━━━━━━━━━━━━\u001b[0m\u001b[37m\u001b[0m \u001b[1m2s\u001b[0m 123ms/step - accuracy: 0.3966 - loss: 3.9257 - perplexity: 51.9637 - val_accuracy: 0.0333 - val_loss: 5.6854 - val_perplexity: 295.6919\n",
            "Epoch 26/100\n",
            "\u001b[1m15/15\u001b[0m \u001b[32m━━━━━━━━━━━━━━━━━━━━\u001b[0m\u001b[37m\u001b[0m \u001b[1m2s\u001b[0m 130ms/step - accuracy: 0.4577 - loss: 3.7439 - perplexity: 43.1236 - val_accuracy: 0.0333 - val_loss: 5.6609 - val_perplexity: 289.1540\n",
            "Epoch 27/100\n",
            "\u001b[1m15/15\u001b[0m \u001b[32m━━━━━━━━━━━━━━━━━━━━\u001b[0m\u001b[37m\u001b[0m \u001b[1m2s\u001b[0m 94ms/step - accuracy: 0.4206 - loss: 3.6638 - perplexity: 39.4722 - val_accuracy: 0.0417 - val_loss: 5.6660 - val_perplexity: 289.7805\n",
            "Epoch 28/100\n",
            "\u001b[1m15/15\u001b[0m \u001b[32m━━━━━━━━━━━━━━━━━━━━\u001b[0m\u001b[37m\u001b[0m \u001b[1m2s\u001b[0m 38ms/step - accuracy: 0.4810 - loss: 3.6196 - perplexity: 37.8127 - val_accuracy: 0.0417 - val_loss: 5.6470 - val_perplexity: 284.0081\n",
            "Epoch 29/100\n",
            "\u001b[1m15/15\u001b[0m \u001b[32m━━━━━━━━━━━━━━━━━━━━\u001b[0m\u001b[37m\u001b[0m \u001b[1m1s\u001b[0m 36ms/step - accuracy: 0.4438 - loss: 3.5106 - perplexity: 33.7463 - val_accuracy: 0.0500 - val_loss: 5.6488 - val_perplexity: 285.6614\n",
            "Epoch 30/100\n",
            "\u001b[1m15/15\u001b[0m \u001b[32m━━━━━━━━━━━━━━━━━━━━\u001b[0m\u001b[37m\u001b[0m \u001b[1m1s\u001b[0m 41ms/step - accuracy: 0.4664 - loss: 3.4428 - perplexity: 31.8459 - val_accuracy: 0.0333 - val_loss: 5.6550 - val_perplexity: 287.5772\n",
            "Epoch 31/100\n",
            "\u001b[1m15/15\u001b[0m \u001b[32m━━━━━━━━━━━━━━━━━━━━\u001b[0m\u001b[37m\u001b[0m \u001b[1m1s\u001b[0m 36ms/step - accuracy: 0.4485 - loss: 3.3572 - perplexity: 29.1569 - val_accuracy: 0.0333 - val_loss: 5.6835 - val_perplexity: 296.5902\n",
            "Epoch 32/100\n",
            "\u001b[1m15/15\u001b[0m \u001b[32m━━━━━━━━━━━━━━━━━━━━\u001b[0m\u001b[37m\u001b[0m \u001b[1m1s\u001b[0m 36ms/step - accuracy: 0.4585 - loss: 3.2837 - perplexity: 27.1507 - val_accuracy: 0.0417 - val_loss: 5.6718 - val_perplexity: 291.4931\n",
            "Epoch 33/100\n",
            "\u001b[1m15/15\u001b[0m \u001b[32m━━━━━━━━━━━━━━━━━━━━\u001b[0m\u001b[37m\u001b[0m \u001b[1m1s\u001b[0m 39ms/step - accuracy: 0.4360 - loss: 3.2731 - perplexity: 26.6181 - val_accuracy: 0.0500 - val_loss: 5.6772 - val_perplexity: 295.3328\n",
            "Epoch 34/100\n",
            "\u001b[1m15/15\u001b[0m \u001b[32m━━━━━━━━━━━━━━━━━━━━\u001b[0m\u001b[37m\u001b[0m \u001b[1m1s\u001b[0m 42ms/step - accuracy: 0.4371 - loss: 3.1985 - perplexity: 25.0580 - val_accuracy: 0.0417 - val_loss: 5.6738 - val_perplexity: 294.3837\n",
            "Epoch 35/100\n",
            "\u001b[1m15/15\u001b[0m \u001b[32m━━━━━━━━━━━━━━━━━━━━\u001b[0m\u001b[37m\u001b[0m \u001b[1m1s\u001b[0m 58ms/step - accuracy: 0.4823 - loss: 3.1738 - perplexity: 24.3001 - val_accuracy: 0.0500 - val_loss: 5.6743 - val_perplexity: 293.3092\n",
            "Epoch 36/100\n",
            "\u001b[1m15/15\u001b[0m \u001b[32m━━━━━━━━━━━━━━━━━━━━\u001b[0m\u001b[37m\u001b[0m \u001b[1m1s\u001b[0m 39ms/step - accuracy: 0.4640 - loss: 3.0965 - perplexity: 22.5667 - val_accuracy: 0.0500 - val_loss: 5.6790 - val_perplexity: 295.5354\n",
            "Epoch 37/100\n",
            "\u001b[1m15/15\u001b[0m \u001b[32m━━━━━━━━━━━━━━━━━━━━\u001b[0m\u001b[37m\u001b[0m \u001b[1m1s\u001b[0m 38ms/step - accuracy: 0.4897 - loss: 3.0316 - perplexity: 21.0697 - val_accuracy: 0.0500 - val_loss: 5.7098 - val_perplexity: 305.4216\n",
            "Epoch 38/100\n",
            "\u001b[1m15/15\u001b[0m \u001b[32m━━━━━━━━━━━━━━━━━━━━\u001b[0m\u001b[37m\u001b[0m \u001b[1m1s\u001b[0m 40ms/step - accuracy: 0.5060 - loss: 2.9312 - perplexity: 19.0428 - val_accuracy: 0.0500 - val_loss: 5.7148 - val_perplexity: 309.4291\n",
            "Epoch 39/100\n",
            "\u001b[1m15/15\u001b[0m \u001b[32m━━━━━━━━━━━━━━━━━━━━\u001b[0m\u001b[37m\u001b[0m \u001b[1m1s\u001b[0m 38ms/step - accuracy: 0.4994 - loss: 2.8696 - perplexity: 17.8891 - val_accuracy: 0.0500 - val_loss: 5.7416 - val_perplexity: 318.3673\n",
            "Epoch 40/100\n",
            "\u001b[1m15/15\u001b[0m \u001b[32m━━━━━━━━━━━━━━━━━━━━\u001b[0m\u001b[37m\u001b[0m \u001b[1m1s\u001b[0m 59ms/step - accuracy: 0.5273 - loss: 2.8315 - perplexity: 17.3331 - val_accuracy: 0.0500 - val_loss: 5.7352 - val_perplexity: 314.8163\n",
            "Epoch 41/100\n",
            "\u001b[1m15/15\u001b[0m \u001b[32m━━━━━━━━━━━━━━━━━━━━\u001b[0m\u001b[37m\u001b[0m \u001b[1m1s\u001b[0m 63ms/step - accuracy: 0.5035 - loss: 2.7606 - perplexity: 16.0911 - val_accuracy: 0.0500 - val_loss: 5.7447 - val_perplexity: 322.2630\n",
            "Epoch 42/100\n",
            "\u001b[1m15/15\u001b[0m \u001b[32m━━━━━━━━━━━━━━━━━━━━\u001b[0m\u001b[37m\u001b[0m \u001b[1m1s\u001b[0m 64ms/step - accuracy: 0.4964 - loss: 2.7579 - perplexity: 15.9685 - val_accuracy: 0.0417 - val_loss: 5.7556 - val_perplexity: 322.4809\n",
            "Epoch 43/100\n",
            "\u001b[1m15/15\u001b[0m \u001b[32m━━━━━━━━━━━━━━━━━━━━\u001b[0m\u001b[37m\u001b[0m \u001b[1m1s\u001b[0m 47ms/step - accuracy: 0.5071 - loss: 2.7249 - perplexity: 15.8634 - val_accuracy: 0.0500 - val_loss: 5.7823 - val_perplexity: 332.5042\n",
            "Epoch 44/100\n",
            "\u001b[1m15/15\u001b[0m \u001b[32m━━━━━━━━━━━━━━━━━━━━\u001b[0m\u001b[37m\u001b[0m \u001b[1m1s\u001b[0m 39ms/step - accuracy: 0.5218 - loss: 2.6282 - perplexity: 14.1798 - val_accuracy: 0.0500 - val_loss: 5.8352 - val_perplexity: 351.0602\n",
            "Epoch 45/100\n",
            "\u001b[1m15/15\u001b[0m \u001b[32m━━━━━━━━━━━━━━━━━━━━\u001b[0m\u001b[37m\u001b[0m \u001b[1m1s\u001b[0m 38ms/step - accuracy: 0.5204 - loss: 2.6054 - perplexity: 13.7005 - val_accuracy: 0.0417 - val_loss: 5.8179 - val_perplexity: 343.3555\n",
            "Epoch 46/100\n",
            "\u001b[1m15/15\u001b[0m \u001b[32m━━━━━━━━━━━━━━━━━━━━\u001b[0m\u001b[37m\u001b[0m \u001b[1m1s\u001b[0m 38ms/step - accuracy: 0.5316 - loss: 2.5542 - perplexity: 13.2250 - val_accuracy: 0.0583 - val_loss: 5.8244 - val_perplexity: 351.6680\n",
            "Epoch 47/100\n",
            "\u001b[1m15/15\u001b[0m \u001b[32m━━━━━━━━━━━━━━━━━━━━\u001b[0m\u001b[37m\u001b[0m \u001b[1m1s\u001b[0m 41ms/step - accuracy: 0.5662 - loss: 2.4359 - perplexity: 11.5330 - val_accuracy: 0.0417 - val_loss: 5.8234 - val_perplexity: 346.9312\n",
            "Epoch 48/100\n",
            "\u001b[1m15/15\u001b[0m \u001b[32m━━━━━━━━━━━━━━━━━━━━\u001b[0m\u001b[37m\u001b[0m \u001b[1m1s\u001b[0m 38ms/step - accuracy: 0.5524 - loss: 2.4819 - perplexity: 12.1755 - val_accuracy: 0.0417 - val_loss: 5.8394 - val_perplexity: 351.7085\n",
            "Epoch 49/100\n",
            "\u001b[1m15/15\u001b[0m \u001b[32m━━━━━━━━━━━━━━━━━━━━\u001b[0m\u001b[37m\u001b[0m \u001b[1m1s\u001b[0m 38ms/step - accuracy: 0.5067 - loss: 2.4791 - perplexity: 12.3598 - val_accuracy: 0.0500 - val_loss: 5.8702 - val_perplexity: 363.9508\n",
            "Epoch 50/100\n",
            "\u001b[1m15/15\u001b[0m \u001b[32m━━━━━━━━━━━━━━━━━━━━\u001b[0m\u001b[37m\u001b[0m \u001b[1m1s\u001b[0m 34ms/step - accuracy: 0.5366 - loss: 2.3833 - perplexity: 10.9002 - val_accuracy: 0.0500 - val_loss: 5.8775 - val_perplexity: 374.3730\n",
            "Epoch 51/100\n",
            "\u001b[1m15/15\u001b[0m \u001b[32m━━━━━━━━━━━━━━━━━━━━\u001b[0m\u001b[37m\u001b[0m \u001b[1m1s\u001b[0m 37ms/step - accuracy: 0.5493 - loss: 2.3728 - perplexity: 10.9557 - val_accuracy: 0.0500 - val_loss: 5.8812 - val_perplexity: 379.7353\n",
            "Epoch 52/100\n",
            "\u001b[1m15/15\u001b[0m \u001b[32m━━━━━━━━━━━━━━━━━━━━\u001b[0m\u001b[37m\u001b[0m \u001b[1m1s\u001b[0m 38ms/step - accuracy: 0.5893 - loss: 2.2743 - perplexity: 10.0644 - val_accuracy: 0.0500 - val_loss: 5.9555 - val_perplexity: 405.6417\n",
            "Epoch 53/100\n",
            "\u001b[1m15/15\u001b[0m \u001b[32m━━━━━━━━━━━━━━━━━━━━\u001b[0m\u001b[37m\u001b[0m \u001b[1m1s\u001b[0m 38ms/step - accuracy: 0.5976 - loss: 2.2810 - perplexity: 9.9424 - val_accuracy: 0.0667 - val_loss: 5.9176 - val_perplexity: 390.4934\n",
            "Epoch 54/100\n",
            "\u001b[1m15/15\u001b[0m \u001b[32m━━━━━━━━━━━━━━━━━━━━\u001b[0m\u001b[37m\u001b[0m \u001b[1m1s\u001b[0m 39ms/step - accuracy: 0.5725 - loss: 2.2768 - perplexity: 10.0931 - val_accuracy: 0.0417 - val_loss: 5.9766 - val_perplexity: 407.1896\n",
            "Epoch 55/100\n",
            "\u001b[1m15/15\u001b[0m \u001b[32m━━━━━━━━━━━━━━━━━━━━\u001b[0m\u001b[37m\u001b[0m \u001b[1m1s\u001b[0m 36ms/step - accuracy: 0.6039 - loss: 2.1516 - perplexity: 8.7329 - val_accuracy: 0.0500 - val_loss: 5.9662 - val_perplexity: 405.1200\n",
            "Epoch 56/100\n",
            "\u001b[1m15/15\u001b[0m \u001b[32m━━━━━━━━━━━━━━━━━━━━\u001b[0m\u001b[37m\u001b[0m \u001b[1m1s\u001b[0m 40ms/step - accuracy: 0.6159 - loss: 2.1002 - perplexity: 8.2948 - val_accuracy: 0.0833 - val_loss: 5.9822 - val_perplexity: 417.9091\n",
            "Epoch 57/100\n",
            "\u001b[1m15/15\u001b[0m \u001b[32m━━━━━━━━━━━━━━━━━━━━\u001b[0m\u001b[37m\u001b[0m \u001b[1m1s\u001b[0m 38ms/step - accuracy: 0.5970 - loss: 2.1605 - perplexity: 8.7607 - val_accuracy: 0.0583 - val_loss: 5.9814 - val_perplexity: 414.8043\n",
            "Epoch 58/100\n",
            "\u001b[1m15/15\u001b[0m \u001b[32m━━━━━━━━━━━━━━━━━━━━\u001b[0m\u001b[37m\u001b[0m \u001b[1m1s\u001b[0m 38ms/step - accuracy: 0.6537 - loss: 2.0293 - perplexity: 7.6500 - val_accuracy: 0.0583 - val_loss: 5.9672 - val_perplexity: 411.6431\n",
            "Epoch 59/100\n",
            "\u001b[1m15/15\u001b[0m \u001b[32m━━━━━━━━━━━━━━━━━━━━\u001b[0m\u001b[37m\u001b[0m \u001b[1m1s\u001b[0m 63ms/step - accuracy: 0.5850 - loss: 2.0827 - perplexity: 8.1883 - val_accuracy: 0.0583 - val_loss: 5.9834 - val_perplexity: 418.7860\n",
            "Epoch 60/100\n",
            "\u001b[1m15/15\u001b[0m \u001b[32m━━━━━━━━━━━━━━━━━━━━\u001b[0m\u001b[37m\u001b[0m \u001b[1m1s\u001b[0m 66ms/step - accuracy: 0.6088 - loss: 2.0344 - perplexity: 7.7216 - val_accuracy: 0.0583 - val_loss: 6.0743 - val_perplexity: 455.8268\n",
            "Epoch 61/100\n",
            "\u001b[1m15/15\u001b[0m \u001b[32m━━━━━━━━━━━━━━━━━━━━\u001b[0m\u001b[37m\u001b[0m \u001b[1m1s\u001b[0m 62ms/step - accuracy: 0.6717 - loss: 2.0365 - perplexity: 7.7891 - val_accuracy: 0.0667 - val_loss: 6.0482 - val_perplexity: 444.5865\n",
            "Epoch 62/100\n",
            "\u001b[1m15/15\u001b[0m \u001b[32m━━━━━━━━━━━━━━━━━━━━\u001b[0m\u001b[37m\u001b[0m \u001b[1m1s\u001b[0m 37ms/step - accuracy: 0.6618 - loss: 1.9631 - perplexity: 7.2840 - val_accuracy: 0.0833 - val_loss: 6.0430 - val_perplexity: 446.8872\n",
            "Epoch 63/100\n",
            "\u001b[1m15/15\u001b[0m \u001b[32m━━━━━━━━━━━━━━━━━━━━\u001b[0m\u001b[37m\u001b[0m \u001b[1m1s\u001b[0m 37ms/step - accuracy: 0.6701 - loss: 1.9219 - perplexity: 7.1098 - val_accuracy: 0.0583 - val_loss: 6.1428 - val_perplexity: 488.6357\n",
            "Epoch 64/100\n",
            "\u001b[1m15/15\u001b[0m \u001b[32m━━━━━━━━━━━━━━━━━━━━\u001b[0m\u001b[37m\u001b[0m \u001b[1m1s\u001b[0m 40ms/step - accuracy: 0.6575 - loss: 1.8647 - perplexity: 6.7354 - val_accuracy: 0.0583 - val_loss: 6.1054 - val_perplexity: 476.6323\n",
            "Epoch 65/100\n",
            "\u001b[1m15/15\u001b[0m \u001b[32m━━━━━━━━━━━━━━━━━━━━\u001b[0m\u001b[37m\u001b[0m \u001b[1m1s\u001b[0m 38ms/step - accuracy: 0.6167 - loss: 1.9899 - perplexity: 7.4977 - val_accuracy: 0.0500 - val_loss: 6.1548 - val_perplexity: 490.4129\n",
            "Epoch 66/100\n",
            "\u001b[1m15/15\u001b[0m \u001b[32m━━━━━━━━━━━━━━━━━━━━\u001b[0m\u001b[37m\u001b[0m \u001b[1m1s\u001b[0m 38ms/step - accuracy: 0.6669 - loss: 1.8855 - perplexity: 6.7556 - val_accuracy: 0.0750 - val_loss: 6.1514 - val_perplexity: 489.4979\n",
            "Epoch 67/100\n",
            "\u001b[1m15/15\u001b[0m \u001b[32m━━━━━━━━━━━━━━━━━━━━\u001b[0m\u001b[37m\u001b[0m \u001b[1m1s\u001b[0m 38ms/step - accuracy: 0.6856 - loss: 1.8099 - perplexity: 6.2315 - val_accuracy: 0.0833 - val_loss: 6.1983 - val_perplexity: 517.4849\n",
            "Epoch 68/100\n",
            "\u001b[1m15/15\u001b[0m \u001b[32m━━━━━━━━━━━━━━━━━━━━\u001b[0m\u001b[37m\u001b[0m \u001b[1m1s\u001b[0m 37ms/step - accuracy: 0.6868 - loss: 1.8018 - perplexity: 6.1837 - val_accuracy: 0.0667 - val_loss: 6.2133 - val_perplexity: 520.0651\n",
            "Epoch 69/100\n",
            "\u001b[1m15/15\u001b[0m \u001b[32m━━━━━━━━━━━━━━━━━━━━\u001b[0m\u001b[37m\u001b[0m \u001b[1m1s\u001b[0m 40ms/step - accuracy: 0.7136 - loss: 1.7262 - perplexity: 5.6738 - val_accuracy: 0.0833 - val_loss: 6.2421 - val_perplexity: 540.7604\n",
            "Epoch 70/100\n",
            "\u001b[1m15/15\u001b[0m \u001b[32m━━━━━━━━━━━━━━━━━━━━\u001b[0m\u001b[37m\u001b[0m \u001b[1m1s\u001b[0m 35ms/step - accuracy: 0.7136 - loss: 1.7529 - perplexity: 5.9280 - val_accuracy: 0.0750 - val_loss: 6.2353 - val_perplexity: 547.9597\n",
            "Epoch 71/100\n",
            "\u001b[1m15/15\u001b[0m \u001b[32m━━━━━━━━━━━━━━━━━━━━\u001b[0m\u001b[37m\u001b[0m \u001b[1m1s\u001b[0m 36ms/step - accuracy: 0.7196 - loss: 1.6736 - perplexity: 5.3947 - val_accuracy: 0.0667 - val_loss: 6.2901 - val_perplexity: 572.2567\n",
            "Epoch 72/100\n",
            "\u001b[1m15/15\u001b[0m \u001b[32m━━━━━━━━━━━━━━━━━━━━\u001b[0m\u001b[37m\u001b[0m \u001b[1m1s\u001b[0m 40ms/step - accuracy: 0.6978 - loss: 1.6495 - perplexity: 5.4239 - val_accuracy: 0.0500 - val_loss: 6.2705 - val_perplexity: 553.3705\n",
            "Epoch 73/100\n",
            "\u001b[1m15/15\u001b[0m \u001b[32m━━━━━━━━━━━━━━━━━━━━\u001b[0m\u001b[37m\u001b[0m \u001b[1m1s\u001b[0m 36ms/step - accuracy: 0.7441 - loss: 1.5326 - perplexity: 4.6904 - val_accuracy: 0.0750 - val_loss: 6.3290 - val_perplexity: 591.5552\n",
            "Epoch 74/100\n",
            "\u001b[1m15/15\u001b[0m \u001b[32m━━━━━━━━━━━━━━━━━━━━\u001b[0m\u001b[37m\u001b[0m \u001b[1m1s\u001b[0m 43ms/step - accuracy: 0.7208 - loss: 1.5096 - perplexity: 4.6129 - val_accuracy: 0.0583 - val_loss: 6.3600 - val_perplexity: 616.1255\n",
            "Epoch 75/100\n",
            "\u001b[1m15/15\u001b[0m \u001b[32m━━━━━━━━━━━━━━━━━━━━\u001b[0m\u001b[37m\u001b[0m \u001b[1m1s\u001b[0m 36ms/step - accuracy: 0.7165 - loss: 1.5342 - perplexity: 4.6928 - val_accuracy: 0.0583 - val_loss: 6.3368 - val_perplexity: 604.4240\n",
            "Epoch 76/100\n",
            "\u001b[1m15/15\u001b[0m \u001b[32m━━━━━━━━━━━━━━━━━━━━\u001b[0m\u001b[37m\u001b[0m \u001b[1m1s\u001b[0m 41ms/step - accuracy: 0.7472 - loss: 1.5563 - perplexity: 4.8954 - val_accuracy: 0.0667 - val_loss: 6.3189 - val_perplexity: 605.4166\n",
            "Epoch 77/100\n",
            "\u001b[1m15/15\u001b[0m \u001b[32m━━━━━━━━━━━━━━━━━━━━\u001b[0m\u001b[37m\u001b[0m \u001b[1m1s\u001b[0m 60ms/step - accuracy: 0.7843 - loss: 1.4822 - perplexity: 4.4641 - val_accuracy: 0.0583 - val_loss: 6.3689 - val_perplexity: 631.1474\n",
            "Epoch 78/100\n",
            "\u001b[1m15/15\u001b[0m \u001b[32m━━━━━━━━━━━━━━━━━━━━\u001b[0m\u001b[37m\u001b[0m \u001b[1m1s\u001b[0m 60ms/step - accuracy: 0.7652 - loss: 1.4851 - perplexity: 4.5101 - val_accuracy: 0.0667 - val_loss: 6.4321 - val_perplexity: 666.9268\n",
            "Epoch 79/100\n",
            "\u001b[1m15/15\u001b[0m \u001b[32m━━━━━━━━━━━━━━━━━━━━\u001b[0m\u001b[37m\u001b[0m \u001b[1m1s\u001b[0m 66ms/step - accuracy: 0.7515 - loss: 1.5157 - perplexity: 4.6129 - val_accuracy: 0.0583 - val_loss: 6.3968 - val_perplexity: 654.1500\n",
            "Epoch 80/100\n",
            "\u001b[1m15/15\u001b[0m \u001b[32m━━━━━━━━━━━━━━━━━━━━\u001b[0m\u001b[37m\u001b[0m \u001b[1m1s\u001b[0m 38ms/step - accuracy: 0.7641 - loss: 1.5094 - perplexity: 4.5709 - val_accuracy: 0.0667 - val_loss: 6.3616 - val_perplexity: 634.3659\n",
            "Epoch 81/100\n",
            "\u001b[1m15/15\u001b[0m \u001b[32m━━━━━━━━━━━━━━━━━━━━\u001b[0m\u001b[37m\u001b[0m \u001b[1m1s\u001b[0m 38ms/step - accuracy: 0.7437 - loss: 1.4683 - perplexity: 4.3660 - val_accuracy: 0.0750 - val_loss: 6.4301 - val_perplexity: 665.6432\n",
            "Epoch 82/100\n",
            "\u001b[1m15/15\u001b[0m \u001b[32m━━━━━━━━━━━━━━━━━━━━\u001b[0m\u001b[37m\u001b[0m \u001b[1m1s\u001b[0m 38ms/step - accuracy: 0.7678 - loss: 1.3954 - perplexity: 4.0713 - val_accuracy: 0.0750 - val_loss: 6.5108 - val_perplexity: 716.9438\n",
            "Epoch 83/100\n",
            "\u001b[1m15/15\u001b[0m \u001b[32m━━━━━━━━━━━━━━━━━━━━\u001b[0m\u001b[37m\u001b[0m \u001b[1m1s\u001b[0m 38ms/step - accuracy: 0.8080 - loss: 1.3302 - perplexity: 3.8020 - val_accuracy: 0.0750 - val_loss: 6.4909 - val_perplexity: 707.7328\n",
            "Epoch 84/100\n",
            "\u001b[1m15/15\u001b[0m \u001b[32m━━━━━━━━━━━━━━━━━━━━\u001b[0m\u001b[37m\u001b[0m \u001b[1m1s\u001b[0m 38ms/step - accuracy: 0.8077 - loss: 1.3056 - perplexity: 3.7196 - val_accuracy: 0.0667 - val_loss: 6.4586 - val_perplexity: 685.9779\n",
            "Epoch 85/100\n",
            "\u001b[1m15/15\u001b[0m \u001b[32m━━━━━━━━━━━━━━━━━━━━\u001b[0m\u001b[37m\u001b[0m \u001b[1m1s\u001b[0m 37ms/step - accuracy: 0.7794 - loss: 1.3499 - perplexity: 3.8979 - val_accuracy: 0.0667 - val_loss: 6.5535 - val_perplexity: 744.4906\n",
            "Epoch 86/100\n",
            "\u001b[1m15/15\u001b[0m \u001b[32m━━━━━━━━━━━━━━━━━━━━\u001b[0m\u001b[37m\u001b[0m \u001b[1m1s\u001b[0m 35ms/step - accuracy: 0.8039 - loss: 1.2669 - perplexity: 3.5805 - val_accuracy: 0.0500 - val_loss: 6.5257 - val_perplexity: 738.8057\n",
            "Epoch 87/100\n",
            "\u001b[1m15/15\u001b[0m \u001b[32m━━━━━━━━━━━━━━━━━━━━\u001b[0m\u001b[37m\u001b[0m \u001b[1m1s\u001b[0m 39ms/step - accuracy: 0.8302 - loss: 1.2866 - perplexity: 3.6587 - val_accuracy: 0.0750 - val_loss: 6.5532 - val_perplexity: 757.9017\n",
            "Epoch 88/100\n",
            "\u001b[1m15/15\u001b[0m \u001b[32m━━━━━━━━━━━━━━━━━━━━\u001b[0m\u001b[37m\u001b[0m \u001b[1m1s\u001b[0m 39ms/step - accuracy: 0.8189 - loss: 1.2098 - perplexity: 3.4182 - val_accuracy: 0.0583 - val_loss: 6.6196 - val_perplexity: 814.9611\n",
            "Epoch 89/100\n",
            "\u001b[1m15/15\u001b[0m \u001b[32m━━━━━━━━━━━━━━━━━━━━\u001b[0m\u001b[37m\u001b[0m \u001b[1m1s\u001b[0m 38ms/step - accuracy: 0.8143 - loss: 1.2457 - perplexity: 3.4970 - val_accuracy: 0.0667 - val_loss: 6.5788 - val_perplexity: 787.8088\n",
            "Epoch 90/100\n",
            "\u001b[1m15/15\u001b[0m \u001b[32m━━━━━━━━━━━━━━━━━━━━\u001b[0m\u001b[37m\u001b[0m \u001b[1m1s\u001b[0m 39ms/step - accuracy: 0.8270 - loss: 1.2224 - perplexity: 3.4430 - val_accuracy: 0.0750 - val_loss: 6.5536 - val_perplexity: 781.2555\n",
            "Epoch 91/100\n",
            "\u001b[1m15/15\u001b[0m \u001b[32m━━━━━━━━━━━━━━━━━━━━\u001b[0m\u001b[37m\u001b[0m \u001b[1m1s\u001b[0m 36ms/step - accuracy: 0.8003 - loss: 1.1904 - perplexity: 3.3146 - val_accuracy: 0.0833 - val_loss: 6.5837 - val_perplexity: 803.5759\n",
            "Epoch 92/100\n",
            "\u001b[1m15/15\u001b[0m \u001b[32m━━━━━━━━━━━━━━━━━━━━\u001b[0m\u001b[37m\u001b[0m \u001b[1m1s\u001b[0m 37ms/step - accuracy: 0.8319 - loss: 1.1376 - perplexity: 3.1466 - val_accuracy: 0.0667 - val_loss: 6.6718 - val_perplexity: 892.9933\n",
            "Epoch 93/100\n",
            "\u001b[1m15/15\u001b[0m \u001b[32m━━━━━━━━━━━━━━━━━━━━\u001b[0m\u001b[37m\u001b[0m \u001b[1m1s\u001b[0m 39ms/step - accuracy: 0.8404 - loss: 1.1332 - perplexity: 3.1215 - val_accuracy: 0.0583 - val_loss: 6.6579 - val_perplexity: 852.9801\n",
            "Epoch 94/100\n",
            "\u001b[1m15/15\u001b[0m \u001b[32m━━━━━━━━━━━━━━━━━━━━\u001b[0m\u001b[37m\u001b[0m \u001b[1m1s\u001b[0m 37ms/step - accuracy: 0.8351 - loss: 1.0915 - perplexity: 3.0100 - val_accuracy: 0.0667 - val_loss: 6.7078 - val_perplexity: 910.4437\n",
            "Epoch 95/100\n",
            "\u001b[1m15/15\u001b[0m \u001b[32m━━━━━━━━━━━━━━━━━━━━\u001b[0m\u001b[37m\u001b[0m \u001b[1m1s\u001b[0m 40ms/step - accuracy: 0.8588 - loss: 1.0883 - perplexity: 3.0072 - val_accuracy: 0.0667 - val_loss: 6.7285 - val_perplexity: 928.9052\n",
            "Epoch 96/100\n",
            "\u001b[1m15/15\u001b[0m \u001b[32m━━━━━━━━━━━━━━━━━━━━\u001b[0m\u001b[37m\u001b[0m \u001b[1m2s\u001b[0m 68ms/step - accuracy: 0.8149 - loss: 1.0720 - perplexity: 2.9698 - val_accuracy: 0.0583 - val_loss: 6.7909 - val_perplexity: 1016.9144\n",
            "Epoch 97/100\n",
            "\u001b[1m15/15\u001b[0m \u001b[32m━━━━━━━━━━━━━━━━━━━━\u001b[0m\u001b[37m\u001b[0m \u001b[1m1s\u001b[0m 76ms/step - accuracy: 0.8658 - loss: 1.0518 - perplexity: 2.8780 - val_accuracy: 0.0667 - val_loss: 6.7847 - val_perplexity: 996.7847\n",
            "Epoch 98/100\n",
            "\u001b[1m15/15\u001b[0m \u001b[32m━━━━━━━━━━━━━━━━━━━━\u001b[0m\u001b[37m\u001b[0m \u001b[1m1s\u001b[0m 62ms/step - accuracy: 0.8379 - loss: 1.0778 - perplexity: 2.9787 - val_accuracy: 0.0750 - val_loss: 6.7238 - val_perplexity: 957.6471\n",
            "Epoch 99/100\n",
            "\u001b[1m15/15\u001b[0m \u001b[32m━━━━━━━━━━━━━━━━━━━━\u001b[0m\u001b[37m\u001b[0m \u001b[1m1s\u001b[0m 43ms/step - accuracy: 0.8745 - loss: 1.0007 - perplexity: 2.7434 - val_accuracy: 0.0417 - val_loss: 6.7687 - val_perplexity: 993.7857\n",
            "Epoch 100/100\n",
            "\u001b[1m15/15\u001b[0m \u001b[32m━━━━━━━━━━━━━━━━━━━━\u001b[0m\u001b[37m\u001b[0m \u001b[1m1s\u001b[0m 45ms/step - accuracy: 0.8507 - loss: 0.9820 - perplexity: 2.7039 - val_accuracy: 0.0417 - val_loss: 6.8029 - val_perplexity: 1018.6569\n"
          ]
        }
      ],
      "source": [
        "history = best_model_1.fit(X_train, y_train,\n",
        "                         epochs=100,\n",
        "                         validation_data=(X_test, y_test),\n",
        "                         batch_size=32)"
      ]
    },
    {
      "cell_type": "code",
      "execution_count": null,
      "metadata": {
        "id": "raUbarSqBkAn",
        "colab": {
          "base_uri": "https://localhost:8080/",
          "height": 564
        },
        "outputId": "b1a6c95d-d116-4055-ae3d-0e0889324c6e"
      },
      "outputs": [
        {
          "output_type": "display_data",
          "data": {
            "text/plain": [
              "<Figure size 1200x600 with 1 Axes>"
            ],
            "image/png": "[encoded data removed]"
          },
          "metadata": {}
        }
      ],
      "source": [
        "import matplotlib.pyplot as plt\n",
        "\n",
        "plt.figure(figsize=(12, 6))\n",
        "\n",
        "# Plot training accuracy for all models\n",
        "plt.subplot(1, 2, 1)\n",
        "plt.plot(history.history['accuracy'], label='Deep_RNN Train', color='blue')\n",
        "plt.plot(history.history['val_accuracy'], label='Deep_RNN Val', color='orange')\n",
        "plt.title('Accuracy Comparison')\n",
        "plt.xlabel('Epoch')\n",
        "plt.ylabel('Accuracy')\n",
        "plt.legend()\n",
        "plt.show()"
      ]
    },
    {
      "cell_type": "code",
      "execution_count": null,
      "metadata": {
        "id": "8VtF9VB0CTLX",
        "colab": {
          "base_uri": "https://localhost:8080/"
        },
        "outputId": "9129b11d-9456-4549-aafd-5fe4d746ecd4"
      },
      "outputs": [
        {
          "output_type": "stream",
          "name": "stdout",
          "text": [
            "\u001b[1m1/1\u001b[0m \u001b[32m━━━━━━━━━━━━━━━━━━━━\u001b[0m\u001b[37m\u001b[0m \u001b[1m0s\u001b[0m 328ms/step\n",
            "Momo and\n",
            "\u001b[1m1/1\u001b[0m \u001b[32m━━━━━━━━━━━━━━━━━━━━\u001b[0m\u001b[37m\u001b[0m \u001b[1m0s\u001b[0m 27ms/step\n",
            "Momo and okarun\n",
            "\u001b[1m1/1\u001b[0m \u001b[32m━━━━━━━━━━━━━━━━━━━━\u001b[0m\u001b[37m\u001b[0m \u001b[1m0s\u001b[0m 25ms/step\n",
            "Momo and okarun supernatural\n",
            "\u001b[1m1/1\u001b[0m \u001b[32m━━━━━━━━━━━━━━━━━━━━\u001b[0m\u001b[37m\u001b[0m \u001b[1m0s\u001b[0m 23ms/step\n",
            "Momo and okarun supernatural supernatural\n",
            "\u001b[1m1/1\u001b[0m \u001b[32m━━━━━━━━━━━━━━━━━━━━\u001b[0m\u001b[37m\u001b[0m \u001b[1m0s\u001b[0m 27ms/step\n",
            "Momo and okarun supernatural supernatural she\n",
            "\u001b[1m1/1\u001b[0m \u001b[32m━━━━━━━━━━━━━━━━━━━━\u001b[0m\u001b[37m\u001b[0m \u001b[1m0s\u001b[0m 24ms/step\n",
            "Momo and okarun supernatural supernatural she is\n",
            "\u001b[1m1/1\u001b[0m \u001b[32m━━━━━━━━━━━━━━━━━━━━\u001b[0m\u001b[37m\u001b[0m \u001b[1m0s\u001b[0m 24ms/step\n",
            "Momo and okarun supernatural supernatural she is elderly\n",
            "\u001b[1m1/1\u001b[0m \u001b[32m━━━━━━━━━━━━━━━━━━━━\u001b[0m\u001b[37m\u001b[0m \u001b[1m0s\u001b[0m 23ms/step\n",
            "Momo and okarun supernatural supernatural she is elderly woman\n",
            "\u001b[1m1/1\u001b[0m \u001b[32m━━━━━━━━━━━━━━━━━━━━\u001b[0m\u001b[37m\u001b[0m \u001b[1m0s\u001b[0m 23ms/step\n",
            "Momo and okarun supernatural supernatural she is elderly woman turbo\n",
            "\u001b[1m1/1\u001b[0m \u001b[32m━━━━━━━━━━━━━━━━━━━━\u001b[0m\u001b[37m\u001b[0m \u001b[1m0s\u001b[0m 26ms/step\n",
            "Momo and okarun supernatural supernatural she is elderly woman turbo granny\n",
            "\u001b[1m1/1\u001b[0m \u001b[32m━━━━━━━━━━━━━━━━━━━━\u001b[0m\u001b[37m\u001b[0m \u001b[1m0s\u001b[0m 34ms/step\n",
            "Momo and okarun supernatural supernatural she is elderly woman turbo granny used\n",
            "\u001b[1m1/1\u001b[0m \u001b[32m━━━━━━━━━━━━━━━━━━━━\u001b[0m\u001b[37m\u001b[0m \u001b[1m0s\u001b[0m 33ms/step\n",
            "Momo and okarun supernatural supernatural she is elderly woman turbo granny used high\n",
            "\u001b[1m1/1\u001b[0m \u001b[32m━━━━━━━━━━━━━━━━━━━━\u001b[0m\u001b[37m\u001b[0m \u001b[1m0s\u001b[0m 26ms/step\n",
            "Momo and okarun supernatural supernatural she is elderly woman turbo granny used high of\n",
            "\u001b[1m1/1\u001b[0m \u001b[32m━━━━━━━━━━━━━━━━━━━━\u001b[0m\u001b[37m\u001b[0m \u001b[1m0s\u001b[0m 26ms/step\n",
            "Momo and okarun supernatural supernatural she is elderly woman turbo granny used high of the\n",
            "\u001b[1m1/1\u001b[0m \u001b[32m━━━━━━━━━━━━━━━━━━━━\u001b[0m\u001b[37m\u001b[0m \u001b[1m0s\u001b[0m 25ms/step\n",
            "Momo and okarun supernatural supernatural she is elderly woman turbo granny used high of the family\n"
          ]
        }
      ],
      "source": [
        "import numpy as np\n",
        "text = \"Momo\"\n",
        "for i in range(15):\n",
        "  token_txt = tokenizer.texts_to_sequences([text])[0]\n",
        "  padded_inp=pad_sequences([token_txt], maxlen = max_len, padding = 'pre')\n",
        "  pos = np.argmax(best_model_1.predict(padded_inp))\n",
        "  for word , index in tokenizer.word_index.items():\n",
        "    if index == pos:\n",
        "      text = text + \" \" + word\n",
        "      print(text)"
      ]
    },
    {
      "cell_type": "code",
      "source": [
        "best_model_2 = Sequential()\n",
        "# Build model\n",
        "best_model_2.add(Embedding(input_dim=len(tokenizer.word_index) + 1,\n",
        "                    output_dim=200))\n",
        "best_model_2.add(LSTM(192, return_sequences=True))\n",
        "best_model_2.add(BatchNormalization())\n",
        "best_model_2.add(Dropout(0.5))\n",
        "best_model_2.add(LSTM(192))\n",
        "best_model_2.add(BatchNormalization())\n",
        "best_model_2.add(Dense(len(tokenizer.word_index) + 1, activation='softmax'))\n",
        "\n",
        "# Compile\n",
        "best_model_2.compile(optimizer=tf.keras.optimizers.Adam(learning_rate=0.000492694559995156),\n",
        "                  loss='categorical_crossentropy',\n",
        "                  metrics=['accuracy',perplexity])"
      ],
      "metadata": {
        "id": "oB4m2beWHyia"
      },
      "execution_count": null,
      "outputs": []
    },
    {
      "cell_type": "code",
      "source": [
        "history = best_model_2.fit(X_train, y_train,\n",
        "                         epochs=30,\n",
        "                         validation_data=(X_test, y_test),\n",
        "                         batch_size=32)"
      ],
      "metadata": {
        "colab": {
          "base_uri": "https://localhost:8080/"
        },
        "id": "X0yVRhtvVIZE",
        "outputId": "61920e56-8db3-4e8c-8d8c-417989ddde84"
      },
      "execution_count": null,
      "outputs": [
        {
          "output_type": "stream",
          "name": "stdout",
          "text": [
            "Epoch 1/30\n",
            "\u001b[1m15/15\u001b[0m \u001b[32m━━━━━━━━━━━━━━━━━━━━\u001b[0m\u001b[37m\u001b[0m \u001b[1m12s\u001b[0m 427ms/step - accuracy: 0.0013 - loss: 5.9138 - perplexity: 373.0992 - val_accuracy: 0.0167 - val_loss: 5.7054 - val_perplexity: 300.4785\n",
            "Epoch 2/30\n",
            "\u001b[1m15/15\u001b[0m \u001b[32m━━━━━━━━━━━━━━━━━━━━\u001b[0m\u001b[37m\u001b[0m \u001b[1m11s\u001b[0m 485ms/step - accuracy: 0.0211 - loss: 5.4051 - perplexity: 223.3445 - val_accuracy: 0.0000e+00 - val_loss: 5.6985 - val_perplexity: 298.4489\n",
            "Epoch 3/30\n",
            "\u001b[1m15/15\u001b[0m \u001b[32m━━━━━━━━━━━━━━━━━━━━\u001b[0m\u001b[37m\u001b[0m \u001b[1m8s\u001b[0m 342ms/step - accuracy: 0.0700 - loss: 4.9967 - perplexity: 149.0269 - val_accuracy: 0.0000e+00 - val_loss: 5.6976 - val_perplexity: 298.3996\n",
            "Epoch 4/30\n",
            "\u001b[1m15/15\u001b[0m \u001b[32m━━━━━━━━━━━━━━━━━━━━\u001b[0m\u001b[37m\u001b[0m \u001b[1m10s\u001b[0m 329ms/step - accuracy: 0.1131 - loss: 4.6372 - perplexity: 105.3134 - val_accuracy: 0.0167 - val_loss: 5.6991 - val_perplexity: 298.9889\n",
            "Epoch 5/30\n",
            "\u001b[1m15/15\u001b[0m \u001b[32m━━━━━━━━━━━━━━━━━━━━\u001b[0m\u001b[37m\u001b[0m \u001b[1m8s\u001b[0m 514ms/step - accuracy: 0.1858 - loss: 4.1053 - perplexity: 60.8828 - val_accuracy: 0.0083 - val_loss: 5.7040 - val_perplexity: 300.4990\n",
            "Epoch 6/30\n",
            "\u001b[1m15/15\u001b[0m \u001b[32m━━━━━━━━━━━━━━━━━━━━\u001b[0m\u001b[37m\u001b[0m \u001b[1m6s\u001b[0m 371ms/step - accuracy: 0.2423 - loss: 3.6052 - perplexity: 37.1771 - val_accuracy: 0.0167 - val_loss: 5.7046 - val_perplexity: 300.7179\n",
            "Epoch 7/30\n",
            "\u001b[1m15/15\u001b[0m \u001b[32m━━━━━━━━━━━━━━━━━━━━\u001b[0m\u001b[37m\u001b[0m \u001b[1m11s\u001b[0m 440ms/step - accuracy: 0.2964 - loss: 3.2726 - perplexity: 26.8714 - val_accuracy: 0.0250 - val_loss: 5.7053 - val_perplexity: 300.9904\n",
            "Epoch 8/30\n",
            "\u001b[1m15/15\u001b[0m \u001b[32m━━━━━━━━━━━━━━━━━━━━\u001b[0m\u001b[37m\u001b[0m \u001b[1m10s\u001b[0m 447ms/step - accuracy: 0.3513 - loss: 2.8919 - perplexity: 18.1632 - val_accuracy: 0.0083 - val_loss: 5.7030 - val_perplexity: 300.3439\n",
            "Epoch 9/30\n",
            "\u001b[1m15/15\u001b[0m \u001b[32m━━━━━━━━━━━━━━━━━━━━\u001b[0m\u001b[37m\u001b[0m \u001b[1m8s\u001b[0m 315ms/step - accuracy: 0.3669 - loss: 2.7745 - perplexity: 16.2574 - val_accuracy: 0.0083 - val_loss: 5.7028 - val_perplexity: 300.2609\n",
            "Epoch 10/30\n",
            "\u001b[1m15/15\u001b[0m \u001b[32m━━━━━━━━━━━━━━━━━━━━\u001b[0m\u001b[37m\u001b[0m \u001b[1m7s\u001b[0m 453ms/step - accuracy: 0.3935 - loss: 2.4690 - perplexity: 12.0598 - val_accuracy: 0.0083 - val_loss: 5.7019 - val_perplexity: 300.0597\n",
            "Epoch 11/30\n",
            "\u001b[1m15/15\u001b[0m \u001b[32m━━━━━━━━━━━━━━━━━━━━\u001b[0m\u001b[37m\u001b[0m \u001b[1m9s\u001b[0m 346ms/step - accuracy: 0.5008 - loss: 2.2302 - perplexity: 9.3931 - val_accuracy: 0.0167 - val_loss: 5.7028 - val_perplexity: 300.3375\n",
            "Epoch 12/30\n",
            "\u001b[1m15/15\u001b[0m \u001b[32m━━━━━━━━━━━━━━━━━━━━\u001b[0m\u001b[37m\u001b[0m \u001b[1m10s\u001b[0m 332ms/step - accuracy: 0.5136 - loss: 2.0165 - perplexity: 7.6763 - val_accuracy: 0.0167 - val_loss: 5.7013 - val_perplexity: 299.8890\n",
            "Epoch 13/30\n",
            "\u001b[1m15/15\u001b[0m \u001b[32m━━━━━━━━━━━━━━━━━━━━\u001b[0m\u001b[37m\u001b[0m \u001b[1m7s\u001b[0m 474ms/step - accuracy: 0.5196 - loss: 1.8793 - perplexity: 6.6343 - val_accuracy: 0.0250 - val_loss: 5.7013 - val_perplexity: 299.9218\n",
            "Epoch 14/30\n",
            "\u001b[1m15/15\u001b[0m \u001b[32m━━━━━━━━━━━━━━━━━━━━\u001b[0m\u001b[37m\u001b[0m \u001b[1m8s\u001b[0m 315ms/step - accuracy: 0.5522 - loss: 1.7162 - perplexity: 5.6549 - val_accuracy: 0.0250 - val_loss: 5.7012 - val_perplexity: 299.9109\n",
            "Epoch 15/30\n",
            "\u001b[1m15/15\u001b[0m \u001b[32m━━━━━━━━━━━━━━━━━━━━\u001b[0m\u001b[37m\u001b[0m \u001b[1m7s\u001b[0m 423ms/step - accuracy: 0.6353 - loss: 1.5270 - perplexity: 4.7102 - val_accuracy: 0.0250 - val_loss: 5.6990 - val_perplexity: 299.2170\n",
            "Epoch 16/30\n",
            "\u001b[1m15/15\u001b[0m \u001b[32m━━━━━━━━━━━━━━━━━━━━\u001b[0m\u001b[37m\u001b[0m \u001b[1m9s\u001b[0m 344ms/step - accuracy: 0.6373 - loss: 1.4826 - perplexity: 4.4361 - val_accuracy: 0.0250 - val_loss: 5.7006 - val_perplexity: 299.6528\n",
            "Epoch 17/30\n",
            "\u001b[1m15/15\u001b[0m \u001b[32m━━━━━━━━━━━━━━━━━━━━\u001b[0m\u001b[37m\u001b[0m \u001b[1m10s\u001b[0m 318ms/step - accuracy: 0.6850 - loss: 1.3237 - perplexity: 3.7925 - val_accuracy: 0.0250 - val_loss: 5.6996 - val_perplexity: 299.3729\n",
            "Epoch 18/30\n",
            "\u001b[1m15/15\u001b[0m \u001b[32m━━━━━━━━━━━━━━━━━━━━\u001b[0m\u001b[37m\u001b[0m \u001b[1m7s\u001b[0m 439ms/step - accuracy: 0.6661 - loss: 1.3307 - perplexity: 3.8154 - val_accuracy: 0.0167 - val_loss: 5.6921 - val_perplexity: 297.0437\n",
            "Epoch 19/30\n",
            "\u001b[1m15/15\u001b[0m \u001b[32m━━━━━━━━━━━━━━━━━━━━\u001b[0m\u001b[37m\u001b[0m \u001b[1m8s\u001b[0m 305ms/step - accuracy: 0.7250 - loss: 1.2232 - perplexity: 3.4269 - val_accuracy: 0.0250 - val_loss: 5.6863 - val_perplexity: 295.1978\n",
            "Epoch 20/30\n",
            "\u001b[1m15/15\u001b[0m \u001b[32m━━━━━━━━━━━━━━━━━━━━\u001b[0m\u001b[37m\u001b[0m \u001b[1m7s\u001b[0m 448ms/step - accuracy: 0.7076 - loss: 1.1680 - perplexity: 3.2409 - val_accuracy: 0.0333 - val_loss: 5.6853 - val_perplexity: 294.6982\n",
            "Epoch 21/30\n",
            "\u001b[1m15/15\u001b[0m \u001b[32m━━━━━━━━━━━━━━━━━━━━\u001b[0m\u001b[37m\u001b[0m \u001b[1m9s\u001b[0m 325ms/step - accuracy: 0.7613 - loss: 1.0756 - perplexity: 2.9717 - val_accuracy: 0.0333 - val_loss: 5.6775 - val_perplexity: 292.6656\n",
            "Epoch 22/30\n",
            "\u001b[1m15/15\u001b[0m \u001b[32m━━━━━━━━━━━━━━━━━━━━\u001b[0m\u001b[37m\u001b[0m \u001b[1m6s\u001b[0m 389ms/step - accuracy: 0.7530 - loss: 1.0295 - perplexity: 2.8179 - val_accuracy: 0.0250 - val_loss: 5.6732 - val_perplexity: 291.1291\n",
            "Epoch 23/30\n",
            "\u001b[1m15/15\u001b[0m \u001b[32m━━━━━━━━━━━━━━━━━━━━\u001b[0m\u001b[37m\u001b[0m \u001b[1m10s\u001b[0m 390ms/step - accuracy: 0.8048 - loss: 0.9659 - perplexity: 2.6452 - val_accuracy: 0.0250 - val_loss: 5.6738 - val_perplexity: 291.5916\n",
            "Epoch 24/30\n",
            "\u001b[1m15/15\u001b[0m \u001b[32m━━━━━━━━━━━━━━━━━━━━\u001b[0m\u001b[37m\u001b[0m \u001b[1m9s\u001b[0m 307ms/step - accuracy: 0.8163 - loss: 0.8573 - perplexity: 2.3768 - val_accuracy: 0.0417 - val_loss: 5.6732 - val_perplexity: 291.2842\n",
            "Epoch 25/30\n",
            "\u001b[1m15/15\u001b[0m \u001b[32m━━━━━━━━━━━━━━━━━━━━\u001b[0m\u001b[37m\u001b[0m \u001b[1m7s\u001b[0m 458ms/step - accuracy: 0.8268 - loss: 0.8604 - perplexity: 2.4033 - val_accuracy: 0.0250 - val_loss: 5.6687 - val_perplexity: 289.5791\n",
            "Epoch 26/30\n",
            "\u001b[1m15/15\u001b[0m \u001b[32m━━━━━━━━━━━━━━━━━━━━\u001b[0m\u001b[37m\u001b[0m \u001b[1m8s\u001b[0m 317ms/step - accuracy: 0.8265 - loss: 0.8201 - perplexity: 2.3003 - val_accuracy: 0.0417 - val_loss: 5.6486 - val_perplexity: 283.6346\n",
            "Epoch 27/30\n",
            "\u001b[1m15/15\u001b[0m \u001b[32m━━━━━━━━━━━━━━━━━━━━\u001b[0m\u001b[37m\u001b[0m \u001b[1m6s\u001b[0m 411ms/step - accuracy: 0.8325 - loss: 0.7266 - perplexity: 2.0774 - val_accuracy: 0.0250 - val_loss: 5.6478 - val_perplexity: 283.2489\n",
            "Epoch 28/30\n",
            "\u001b[1m15/15\u001b[0m \u001b[32m━━━━━━━━━━━━━━━━━━━━\u001b[0m\u001b[37m\u001b[0m \u001b[1m9s\u001b[0m 363ms/step - accuracy: 0.8351 - loss: 0.7674 - perplexity: 2.1681 - val_accuracy: 0.0333 - val_loss: 5.6359 - val_perplexity: 279.5280\n",
            "Epoch 29/30\n",
            "\u001b[1m15/15\u001b[0m \u001b[32m━━━━━━━━━━━━━━━━━━━━\u001b[0m\u001b[37m\u001b[0m \u001b[1m6s\u001b[0m 364ms/step - accuracy: 0.8619 - loss: 0.6547 - perplexity: 1.9353 - val_accuracy: 0.0250 - val_loss: 5.6159 - val_perplexity: 274.5465\n",
            "Epoch 30/30\n",
            "\u001b[1m15/15\u001b[0m \u001b[32m━━━━━━━━━━━━━━━━━━━━\u001b[0m\u001b[37m\u001b[0m \u001b[1m11s\u001b[0m 449ms/step - accuracy: 0.8702 - loss: 0.6481 - perplexity: 1.9315 - val_accuracy: 0.0333 - val_loss: 5.6183 - val_perplexity: 275.5111\n"
          ]
        }
      ]
    },
    {
      "cell_type": "code",
      "source": [
        "import matplotlib.pyplot as plt\n",
        "\n",
        "plt.figure(figsize=(12, 6))\n",
        "\n",
        "# Plot training accuracy for all models\n",
        "plt.subplot(1, 2, 1)\n",
        "plt.plot(history.history['accuracy'], label='Deep_LSTM Train', color='blue')\n",
        "plt.plot(history.history['val_accuracy'], label='Deep_LSTM Val', color='orange')\n",
        "plt.title('Accuracy Comparison')\n",
        "plt.xlabel('Epoch')\n",
        "plt.ylabel('Accuracy')\n",
        "plt.legend()\n",
        "plt.show()"
      ],
      "metadata": {
        "colab": {
          "base_uri": "https://localhost:8080/",
          "height": 564
        },
        "id": "zdc6QlYcVQ9E",
        "outputId": "fcb13427-fc4b-42f6-948d-33ae4b48c882"
      },
      "execution_count": null,
      "outputs": [
        {
          "output_type": "display_data",
          "data": {
            "text/plain": [
              "<Figure size 1200x600 with 1 Axes>"
            ],
            "image/png": "[encoded data removed]"
          },
          "metadata": {}
        }
      ]
    },
    {
      "cell_type": "code",
      "source": [
        "import numpy as np\n",
        "text = \"Momo\"\n",
        "for i in range(15):\n",
        "  token_txt = tokenizer.texts_to_sequences([text])[0]\n",
        "  padded_inp=pad_sequences([token_txt], maxlen = max_len, padding = 'pre')\n",
        "  pos = np.argmax(best_model_2.predict(padded_inp))\n",
        "  for word , index in tokenizer.word_index.items():\n",
        "    if index == pos:\n",
        "      text = text + \" \" + word\n",
        "      print(text)"
      ],
      "metadata": {
        "colab": {
          "base_uri": "https://localhost:8080/"
        },
        "id": "uGgfyFxKVXjW",
        "outputId": "d0990740-2ab0-4245-b851-f4aa0d79971a"
      },
      "execution_count": null,
      "outputs": [
        {
          "output_type": "stream",
          "name": "stdout",
          "text": [
            "\u001b[1m1/1\u001b[0m \u001b[32m━━━━━━━━━━━━━━━━━━━━\u001b[0m\u001b[37m\u001b[0m \u001b[1m0s\u001b[0m 354ms/step\n",
            "Momo the\n",
            "\u001b[1m1/1\u001b[0m \u001b[32m━━━━━━━━━━━━━━━━━━━━\u001b[0m\u001b[37m\u001b[0m \u001b[1m0s\u001b[0m 37ms/step\n",
            "Momo the ayase\n",
            "\u001b[1m1/1\u001b[0m \u001b[32m━━━━━━━━━━━━━━━━━━━━\u001b[0m\u001b[37m\u001b[0m \u001b[1m0s\u001b[0m 35ms/step\n",
            "Momo the ayase of\n",
            "\u001b[1m1/1\u001b[0m \u001b[32m━━━━━━━━━━━━━━━━━━━━\u001b[0m\u001b[37m\u001b[0m \u001b[1m0s\u001b[0m 39ms/step\n",
            "Momo the ayase of the\n",
            "\u001b[1m1/1\u001b[0m \u001b[32m━━━━━━━━━━━━━━━━━━━━\u001b[0m\u001b[37m\u001b[0m \u001b[1m0s\u001b[0m 45ms/step\n",
            "Momo the ayase of the her\n",
            "\u001b[1m1/1\u001b[0m \u001b[32m━━━━━━━━━━━━━━━━━━━━\u001b[0m\u001b[37m\u001b[0m \u001b[1m0s\u001b[0m 49ms/step\n",
            "Momo the ayase of the her to\n",
            "\u001b[1m1/1\u001b[0m \u001b[32m━━━━━━━━━━━━━━━━━━━━\u001b[0m\u001b[37m\u001b[0m \u001b[1m0s\u001b[0m 65ms/step\n",
            "Momo the ayase of the her to the\n",
            "\u001b[1m1/1\u001b[0m \u001b[32m━━━━━━━━━━━━━━━━━━━━\u001b[0m\u001b[37m\u001b[0m \u001b[1m0s\u001b[0m 46ms/step\n",
            "Momo the ayase of the her to the with\n",
            "\u001b[1m1/1\u001b[0m \u001b[32m━━━━━━━━━━━━━━━━━━━━\u001b[0m\u001b[37m\u001b[0m \u001b[1m0s\u001b[0m 41ms/step\n",
            "Momo the ayase of the her to the with resulting\n",
            "\u001b[1m1/1\u001b[0m \u001b[32m━━━━━━━━━━━━━━━━━━━━\u001b[0m\u001b[37m\u001b[0m \u001b[1m0s\u001b[0m 40ms/step\n",
            "Momo the ayase of the her to the with resulting confrontation\n",
            "\u001b[1m1/1\u001b[0m \u001b[32m━━━━━━━━━━━━━━━━━━━━\u001b[0m\u001b[37m\u001b[0m \u001b[1m0s\u001b[0m 44ms/step\n",
            "Momo the ayase of the her to the with resulting confrontation culminated\n",
            "\u001b[1m1/1\u001b[0m \u001b[32m━━━━━━━━━━━━━━━━━━━━\u001b[0m\u001b[37m\u001b[0m \u001b[1m0s\u001b[0m 51ms/step\n",
            "Momo the ayase of the her to the with resulting confrontation culminated her\n",
            "\u001b[1m1/1\u001b[0m \u001b[32m━━━━━━━━━━━━━━━━━━━━\u001b[0m\u001b[37m\u001b[0m \u001b[1m0s\u001b[0m 51ms/step\n",
            "Momo the ayase of the her to the with resulting confrontation culminated her absorbing\n",
            "\u001b[1m1/1\u001b[0m \u001b[32m━━━━━━━━━━━━━━━━━━━━\u001b[0m\u001b[37m\u001b[0m \u001b[1m0s\u001b[0m 43ms/step\n",
            "Momo the ayase of the her to the with resulting confrontation culminated her absorbing absorbing\n",
            "\u001b[1m1/1\u001b[0m \u001b[32m━━━━━━━━━━━━━━━━━━━━\u001b[0m\u001b[37m\u001b[0m \u001b[1m0s\u001b[0m 44ms/step\n",
            "Momo the ayase of the her to the with resulting confrontation culminated her absorbing absorbing giving\n"
          ]
        }
      ]
    },
    {
      "cell_type": "code",
      "source": [
        "best_model_3 = Sequential()\n",
        "\n",
        "# Build model\n",
        "best_model_3.add(Embedding(input_dim=len(tokenizer.word_index) + 1,\n",
        "                           output_dim=200))\n",
        "best_model_3.add(GRU(192, return_sequences=True))\n",
        "best_model_3.add(BatchNormalization())\n",
        "best_model_3.add(Dropout(0.5))\n",
        "best_model_3.add(GRU(192))\n",
        "best_model_3.add(BatchNormalization())\n",
        "best_model_3.add(Dense(len(tokenizer.word_index) + 1, activation='softmax'))\n",
        "\n",
        "# Compile\n",
        "best_model_3.compile(optimizer=tf.keras.optimizers.Adam(learning_rate=0.000492694559995156),\n",
        "                     loss='categorical_crossentropy',\n",
        "                     metrics=['accuracy',perplexity])\n"
      ],
      "metadata": {
        "id": "wisI0wXCVaot"
      },
      "execution_count": null,
      "outputs": []
    },
    {
      "cell_type": "code",
      "source": [
        "history = best_model_3.fit(X_train, y_train,\n",
        "                         epochs=30,\n",
        "                         validation_data=(X_test, y_test),\n",
        "                         batch_size=32)"
      ],
      "metadata": {
        "colab": {
          "base_uri": "https://localhost:8080/"
        },
        "id": "vOAhl9J9X23Z",
        "outputId": "8a31a5be-63f8-40d4-de1e-4fa85e62ca4b"
      },
      "execution_count": null,
      "outputs": [
        {
          "output_type": "stream",
          "name": "stdout",
          "text": [
            "Epoch 1/30\n",
            "\u001b[1m15/15\u001b[0m \u001b[32m━━━━━━━━━━━━━━━━━━━━\u001b[0m\u001b[37m\u001b[0m \u001b[1m13s\u001b[0m 357ms/step - accuracy: 0.0103 - loss: 6.0178 - perplexity: 412.6932 - val_accuracy: 0.0000e+00 - val_loss: 5.7121 - val_perplexity: 302.5310\n",
            "Epoch 2/30\n",
            "\u001b[1m15/15\u001b[0m \u001b[32m━━━━━━━━━━━━━━━━━━━━\u001b[0m\u001b[37m\u001b[0m \u001b[1m5s\u001b[0m 365ms/step - accuracy: 0.0596 - loss: 5.2881 - perplexity: 199.7397 - val_accuracy: 0.0083 - val_loss: 5.7064 - val_perplexity: 300.9471\n",
            "Epoch 3/30\n",
            "\u001b[1m15/15\u001b[0m \u001b[32m━━━━━━━━━━━━━━━━━━━━\u001b[0m\u001b[37m\u001b[0m \u001b[1m10s\u001b[0m 315ms/step - accuracy: 0.1326 - loss: 4.8874 - perplexity: 134.5948 - val_accuracy: 0.0000e+00 - val_loss: 5.7037 - val_perplexity: 300.3665\n",
            "Epoch 4/30\n",
            "\u001b[1m15/15\u001b[0m \u001b[32m━━━━━━━━━━━━━━━━━━━━\u001b[0m\u001b[37m\u001b[0m \u001b[1m6s\u001b[0m 436ms/step - accuracy: 0.2143 - loss: 4.2746 - perplexity: 73.3769 - val_accuracy: 0.0000e+00 - val_loss: 5.7066 - val_perplexity: 301.4034\n",
            "Epoch 5/30\n",
            "\u001b[1m15/15\u001b[0m \u001b[32m━━━━━━━━━━━━━━━━━━━━\u001b[0m\u001b[37m\u001b[0m \u001b[1m8s\u001b[0m 307ms/step - accuracy: 0.3703 - loss: 3.6279 - perplexity: 38.0529 - val_accuracy: 0.0083 - val_loss: 5.7076 - val_perplexity: 301.8449\n",
            "Epoch 6/30\n",
            "\u001b[1m15/15\u001b[0m \u001b[32m━━━━━━━━━━━━━━━━━━━━\u001b[0m\u001b[37m\u001b[0m \u001b[1m7s\u001b[0m 446ms/step - accuracy: 0.4388 - loss: 3.1223 - perplexity: 22.9043 - val_accuracy: 0.0083 - val_loss: 5.7080 - val_perplexity: 301.9306\n",
            "Epoch 7/30\n",
            "\u001b[1m15/15\u001b[0m \u001b[32m━━━━━━━━━━━━━━━━━━━━\u001b[0m\u001b[37m\u001b[0m \u001b[1m9s\u001b[0m 353ms/step - accuracy: 0.5438 - loss: 2.6960 - perplexity: 15.0749 - val_accuracy: 0.0083 - val_loss: 5.7088 - val_perplexity: 302.1350\n",
            "Epoch 8/30\n",
            "\u001b[1m15/15\u001b[0m \u001b[32m━━━━━━━━━━━━━━━━━━━━\u001b[0m\u001b[37m\u001b[0m \u001b[1m10s\u001b[0m 315ms/step - accuracy: 0.6206 - loss: 2.3000 - perplexity: 10.1397 - val_accuracy: 0.0167 - val_loss: 5.7114 - val_perplexity: 302.9110\n",
            "Epoch 9/30\n",
            "\u001b[1m15/15\u001b[0m \u001b[32m━━━━━━━━━━━━━━━━━━━━\u001b[0m\u001b[37m\u001b[0m \u001b[1m7s\u001b[0m 447ms/step - accuracy: 0.6335 - loss: 2.0342 - perplexity: 7.8009 - val_accuracy: 0.0167 - val_loss: 5.7142 - val_perplexity: 303.7155\n",
            "Epoch 10/30\n",
            "\u001b[1m15/15\u001b[0m \u001b[32m━━━━━━━━━━━━━━━━━━━━\u001b[0m\u001b[37m\u001b[0m \u001b[1m8s\u001b[0m 303ms/step - accuracy: 0.6778 - loss: 1.7740 - perplexity: 5.9880 - val_accuracy: 0.0167 - val_loss: 5.7200 - val_perplexity: 305.4655\n",
            "Epoch 11/30\n",
            "\u001b[1m15/15\u001b[0m \u001b[32m━━━━━━━━━━━━━━━━━━━━\u001b[0m\u001b[37m\u001b[0m \u001b[1m7s\u001b[0m 424ms/step - accuracy: 0.7756 - loss: 1.5442 - perplexity: 4.7419 - val_accuracy: 0.0167 - val_loss: 5.7289 - val_perplexity: 308.1516\n",
            "Epoch 12/30\n",
            "\u001b[1m15/15\u001b[0m \u001b[32m━━━━━━━━━━━━━━━━━━━━\u001b[0m\u001b[37m\u001b[0m \u001b[1m9s\u001b[0m 357ms/step - accuracy: 0.8160 - loss: 1.3399 - perplexity: 3.8476 - val_accuracy: 0.0333 - val_loss: 5.7374 - val_perplexity: 310.7373\n",
            "Epoch 13/30\n",
            "\u001b[1m15/15\u001b[0m \u001b[32m━━━━━━━━━━━━━━━━━━━━\u001b[0m\u001b[37m\u001b[0m \u001b[1m10s\u001b[0m 308ms/step - accuracy: 0.8269 - loss: 1.2075 - perplexity: 3.3645 - val_accuracy: 0.0250 - val_loss: 5.7557 - val_perplexity: 316.3590\n",
            "Epoch 14/30\n",
            "\u001b[1m15/15\u001b[0m \u001b[32m━━━━━━━━━━━━━━━━━━━━\u001b[0m\u001b[37m\u001b[0m \u001b[1m7s\u001b[0m 444ms/step - accuracy: 0.8435 - loss: 1.0313 - perplexity: 2.8438 - val_accuracy: 0.0333 - val_loss: 5.7647 - val_perplexity: 319.0613\n",
            "Epoch 15/30\n",
            "\u001b[1m15/15\u001b[0m \u001b[32m━━━━━━━━━━━━━━━━━━━━\u001b[0m\u001b[37m\u001b[0m \u001b[1m8s\u001b[0m 311ms/step - accuracy: 0.8794 - loss: 1.0284 - perplexity: 2.8062 - val_accuracy: 0.0333 - val_loss: 5.7803 - val_perplexity: 324.1441\n",
            "Epoch 16/30\n",
            "\u001b[1m15/15\u001b[0m \u001b[32m━━━━━━━━━━━━━━━━━━━━\u001b[0m\u001b[37m\u001b[0m \u001b[1m7s\u001b[0m 471ms/step - accuracy: 0.8865 - loss: 0.8853 - perplexity: 2.4364 - val_accuracy: 0.0417 - val_loss: 5.7997 - val_perplexity: 330.5424\n",
            "Epoch 17/30\n",
            "\u001b[1m15/15\u001b[0m \u001b[32m━━━━━━━━━━━━━━━━━━━━\u001b[0m\u001b[37m\u001b[0m \u001b[1m8s\u001b[0m 335ms/step - accuracy: 0.8987 - loss: 0.7633 - perplexity: 2.1658 - val_accuracy: 0.0250 - val_loss: 5.8242 - val_perplexity: 338.7332\n",
            "Epoch 18/30\n",
            "\u001b[1m15/15\u001b[0m \u001b[32m━━━━━━━━━━━━━━━━━━━━\u001b[0m\u001b[37m\u001b[0m \u001b[1m6s\u001b[0m 418ms/step - accuracy: 0.8860 - loss: 0.7415 - perplexity: 2.1146 - val_accuracy: 0.0333 - val_loss: 5.8467 - val_perplexity: 346.8238\n",
            "Epoch 19/30\n",
            "\u001b[1m15/15\u001b[0m \u001b[32m━━━━━━━━━━━━━━━━━━━━\u001b[0m\u001b[37m\u001b[0m \u001b[1m10s\u001b[0m 449ms/step - accuracy: 0.9025 - loss: 0.6918 - perplexity: 2.0040 - val_accuracy: 0.0250 - val_loss: 5.8792 - val_perplexity: 358.2759\n",
            "Epoch 20/30\n",
            "\u001b[1m15/15\u001b[0m \u001b[32m━━━━━━━━━━━━━━━━━━━━\u001b[0m\u001b[37m\u001b[0m \u001b[1m8s\u001b[0m 313ms/step - accuracy: 0.9343 - loss: 0.5978 - perplexity: 1.8246 - val_accuracy: 0.0333 - val_loss: 5.8958 - val_perplexity: 364.2940\n",
            "Epoch 21/30\n",
            "\u001b[1m15/15\u001b[0m \u001b[32m━━━━━━━━━━━━━━━━━━━━\u001b[0m\u001b[37m\u001b[0m \u001b[1m7s\u001b[0m 432ms/step - accuracy: 0.9406 - loss: 0.5240 - perplexity: 1.7011 - val_accuracy: 0.0333 - val_loss: 5.9419 - val_perplexity: 381.6693\n",
            "Epoch 22/30\n",
            "\u001b[1m15/15\u001b[0m \u001b[32m━━━━━━━━━━━━━━━━━━━━\u001b[0m\u001b[37m\u001b[0m \u001b[1m5s\u001b[0m 307ms/step - accuracy: 0.9067 - loss: 0.5667 - perplexity: 1.7758 - val_accuracy: 0.0333 - val_loss: 5.9543 - val_perplexity: 386.6396\n",
            "Epoch 23/30\n",
            "\u001b[1m15/15\u001b[0m \u001b[32m━━━━━━━━━━━━━━━━━━━━\u001b[0m\u001b[37m\u001b[0m \u001b[1m6s\u001b[0m 376ms/step - accuracy: 0.9166 - loss: 0.5106 - perplexity: 1.6834 - val_accuracy: 0.0333 - val_loss: 6.0607 - val_perplexity: 430.4973\n",
            "Epoch 24/30\n",
            "\u001b[1m15/15\u001b[0m \u001b[32m━━━━━━━━━━━━━━━━━━━━\u001b[0m\u001b[37m\u001b[0m \u001b[1m9s\u001b[0m 309ms/step - accuracy: 0.9202 - loss: 0.5110 - perplexity: 1.6707 - val_accuracy: 0.0333 - val_loss: 6.0955 - val_perplexity: 445.3556\n",
            "Epoch 25/30\n",
            "\u001b[1m15/15\u001b[0m \u001b[32m━━━━━━━━━━━━━━━━━━━━\u001b[0m\u001b[37m\u001b[0m \u001b[1m7s\u001b[0m 452ms/step - accuracy: 0.8908 - loss: 0.5133 - perplexity: 1.6942 - val_accuracy: 0.0333 - val_loss: 6.1126 - val_perplexity: 453.2448\n",
            "Epoch 26/30\n",
            "\u001b[1m15/15\u001b[0m \u001b[32m━━━━━━━━━━━━━━━━━━━━\u001b[0m\u001b[37m\u001b[0m \u001b[1m8s\u001b[0m 331ms/step - accuracy: 0.9265 - loss: 0.4369 - perplexity: 1.5493 - val_accuracy: 0.0417 - val_loss: 6.1749 - val_perplexity: 482.2531\n",
            "Epoch 27/30\n",
            "\u001b[1m15/15\u001b[0m \u001b[32m━━━━━━━━━━━━━━━━━━━━\u001b[0m\u001b[37m\u001b[0m \u001b[1m7s\u001b[0m 414ms/step - accuracy: 0.9186 - loss: 0.4471 - perplexity: 1.5694 - val_accuracy: 0.0417 - val_loss: 6.3109 - val_perplexity: 553.7305\n",
            "Epoch 28/30\n",
            "\u001b[1m15/15\u001b[0m \u001b[32m━━━━━━━━━━━━━━━━━━━━\u001b[0m\u001b[37m\u001b[0m \u001b[1m10s\u001b[0m 384ms/step - accuracy: 0.9409 - loss: 0.3647 - perplexity: 1.4457 - val_accuracy: 0.0417 - val_loss: 6.3037 - val_perplexity: 550.6974\n",
            "Epoch 29/30\n",
            "\u001b[1m15/15\u001b[0m \u001b[32m━━━━━━━━━━━━━━━━━━━━\u001b[0m\u001b[37m\u001b[0m \u001b[1m5s\u001b[0m 345ms/step - accuracy: 0.9045 - loss: 0.3795 - perplexity: 1.4777 - val_accuracy: 0.0333 - val_loss: 6.3000 - val_perplexity: 545.6576\n",
            "Epoch 30/30\n",
            "\u001b[1m15/15\u001b[0m \u001b[32m━━━━━━━━━━━━━━━━━━━━\u001b[0m\u001b[37m\u001b[0m \u001b[1m11s\u001b[0m 445ms/step - accuracy: 0.9199 - loss: 0.3805 - perplexity: 1.4678 - val_accuracy: 0.0333 - val_loss: 6.1686 - val_perplexity: 477.6286\n"
          ]
        }
      ]
    },
    {
      "cell_type": "code",
      "source": [
        "import matplotlib.pyplot as plt\n",
        "\n",
        "plt.figure(figsize=(12, 6))\n",
        "\n",
        "# Plot training accuracy for all models\n",
        "plt.subplot(1, 2, 1)\n",
        "plt.plot(history.history['accuracy'], label='Deep_GRU Train', color='blue')\n",
        "plt.plot(history.history['val_accuracy'], label='Deep_GRU Val', color='orange')\n",
        "plt.title('Accuracy Comparison')\n",
        "plt.xlabel('Epoch')\n",
        "plt.ylabel('Accuracy')\n",
        "plt.legend()\n",
        "plt.show()"
      ],
      "metadata": {
        "colab": {
          "base_uri": "https://localhost:8080/",
          "height": 564
        },
        "id": "9jH4e3kyYWCQ",
        "outputId": "b39d250b-5331-499e-d54c-ca86ba78a264"
      },
      "execution_count": null,
      "outputs": [
        {
          "output_type": "display_data",
          "data": {
            "text/plain": [
              "<Figure size 1200x600 with 1 Axes>"
            ],
            "image/png": "[encoded data removed]"
          },
          "metadata": {}
        }
      ]
    },
    {
      "cell_type": "code",
      "source": [
        "import numpy as np\n",
        "text = \"Momo\"\n",
        "for i in range(15):\n",
        "  token_txt = tokenizer.texts_to_sequences([text])[0]\n",
        "  padded_inp=pad_sequences([token_txt], maxlen = max_len, padding = 'pre')\n",
        "  pos = np.argmax(best_model_2.predict(padded_inp))\n",
        "  for word , index in tokenizer.word_index.items():\n",
        "    if index == pos:\n",
        "      text = text + \" \" + word\n",
        "      print(text)"
      ],
      "metadata": {
        "colab": {
          "base_uri": "https://localhost:8080/"
        },
        "id": "ef5oBGv1Yazx",
        "outputId": "6b6a347e-a843-4c82-f071-cf5139fa845a"
      },
      "execution_count": null,
      "outputs": [
        {
          "output_type": "stream",
          "name": "stdout",
          "text": [
            "\u001b[1m1/1\u001b[0m \u001b[32m━━━━━━━━━━━━━━━━━━━━\u001b[0m\u001b[37m\u001b[0m \u001b[1m0s\u001b[0m 54ms/step\n",
            "Momo the\n",
            "\u001b[1m1/1\u001b[0m \u001b[32m━━━━━━━━━━━━━━━━━━━━\u001b[0m\u001b[37m\u001b[0m \u001b[1m0s\u001b[0m 43ms/step\n",
            "Momo the ayase\n",
            "\u001b[1m1/1\u001b[0m \u001b[32m━━━━━━━━━━━━━━━━━━━━\u001b[0m\u001b[37m\u001b[0m \u001b[1m0s\u001b[0m 45ms/step\n",
            "Momo the ayase of\n",
            "\u001b[1m1/1\u001b[0m \u001b[32m━━━━━━━━━━━━━━━━━━━━\u001b[0m\u001b[37m\u001b[0m \u001b[1m0s\u001b[0m 50ms/step\n",
            "Momo the ayase of the\n",
            "\u001b[1m1/1\u001b[0m \u001b[32m━━━━━━━━━━━━━━━━━━━━\u001b[0m\u001b[37m\u001b[0m \u001b[1m0s\u001b[0m 48ms/step\n",
            "Momo the ayase of the her\n",
            "\u001b[1m1/1\u001b[0m \u001b[32m━━━━━━━━━━━━━━━━━━━━\u001b[0m\u001b[37m\u001b[0m \u001b[1m0s\u001b[0m 48ms/step\n",
            "Momo the ayase of the her to\n",
            "\u001b[1m1/1\u001b[0m \u001b[32m━━━━━━━━━━━━━━━━━━━━\u001b[0m\u001b[37m\u001b[0m \u001b[1m0s\u001b[0m 53ms/step\n",
            "Momo the ayase of the her to the\n",
            "\u001b[1m1/1\u001b[0m \u001b[32m━━━━━━━━━━━━━━━━━━━━\u001b[0m\u001b[37m\u001b[0m \u001b[1m0s\u001b[0m 52ms/step\n",
            "Momo the ayase of the her to the with\n",
            "\u001b[1m1/1\u001b[0m \u001b[32m━━━━━━━━━━━━━━━━━━━━\u001b[0m\u001b[37m\u001b[0m \u001b[1m0s\u001b[0m 47ms/step\n",
            "Momo the ayase of the her to the with resulting\n",
            "\u001b[1m1/1\u001b[0m \u001b[32m━━━━━━━━━━━━━━━━━━━━\u001b[0m\u001b[37m\u001b[0m \u001b[1m0s\u001b[0m 50ms/step\n",
            "Momo the ayase of the her to the with resulting confrontation\n",
            "\u001b[1m1/1\u001b[0m \u001b[32m━━━━━━━━━━━━━━━━━━━━\u001b[0m\u001b[37m\u001b[0m \u001b[1m0s\u001b[0m 56ms/step\n",
            "Momo the ayase of the her to the with resulting confrontation culminated\n",
            "\u001b[1m1/1\u001b[0m \u001b[32m━━━━━━━━━━━━━━━━━━━━\u001b[0m\u001b[37m\u001b[0m \u001b[1m0s\u001b[0m 42ms/step\n",
            "Momo the ayase of the her to the with resulting confrontation culminated her\n",
            "\u001b[1m1/1\u001b[0m \u001b[32m━━━━━━━━━━━━━━━━━━━━\u001b[0m\u001b[37m\u001b[0m \u001b[1m0s\u001b[0m 42ms/step\n",
            "Momo the ayase of the her to the with resulting confrontation culminated her absorbing\n",
            "\u001b[1m1/1\u001b[0m \u001b[32m━━━━━━━━━━━━━━━━━━━━\u001b[0m\u001b[37m\u001b[0m \u001b[1m0s\u001b[0m 38ms/step\n",
            "Momo the ayase of the her to the with resulting confrontation culminated her absorbing absorbing\n",
            "\u001b[1m1/1\u001b[0m \u001b[32m━━━━━━━━━━━━━━━━━━━━\u001b[0m\u001b[37m\u001b[0m \u001b[1m0s\u001b[0m 40ms/step\n",
            "Momo the ayase of the her to the with resulting confrontation culminated her absorbing absorbing giving\n"
          ]
        }
      ]
    },
    {
      "cell_type": "code",
      "source": [],
      "metadata": {
        "id": "j_HQTKiMYz6w"
      },
      "execution_count": null,
      "outputs": []
    }
  ],
  "metadata": {
    "colab": {
      "provenance": []
    },
    "kernelspec": {
      "display_name": "Python 3",
      "name": "python3"
    },
    "language_info": {
      "name": "python"
    }
  },
  "nbformat": 4,
  "nbformat_minor": 0
}